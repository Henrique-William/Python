{
  "nbformat": 4,
  "nbformat_minor": 0,
  "metadata": {
    "colab": {
      "provenance": [],
      "authorship_tag": "ABX9TyOIghE0V0ixTr7WOetP6Bka",
      "include_colab_link": true
    },
    "kernelspec": {
      "name": "python3",
      "display_name": "Python 3"
    },
    "language_info": {
      "name": "python"
    }
  },
  "cells": [
    {
      "cell_type": "markdown",
      "metadata": {
        "id": "view-in-github",
        "colab_type": "text"
      },
      "source": [
        "<a href=\"https://colab.research.google.com/github/Henrique-William/Machine-Learn/blob/main/Projeto_ML.ipynb\" target=\"_parent\"><img src=\"https://colab.research.google.com/assets/colab-badge.svg\" alt=\"Open In Colab\"/></a>"
      ]
    },
    {
      "cell_type": "code",
      "execution_count": null,
      "metadata": {
        "id": "ZAoOCA2_KADO"
      },
      "outputs": [],
      "source": [
        "import pandas as pd"
      ]
    },
    {
      "cell_type": "code",
      "source": [
        "dados = pd.read_csv('/content/Customer-Churn.csv')"
      ],
      "metadata": {
        "id": "r77pDUGXMg7j"
      },
      "execution_count": null,
      "outputs": []
    },
    {
      "cell_type": "code",
      "source": [
        "dados.shape"
      ],
      "metadata": {
        "colab": {
          "base_uri": "https://localhost:8080/"
        },
        "id": "ngnKHHFQr5WG",
        "outputId": "906b93ca-fc84-459d-8bb8-009ac0b103d2"
      },
      "execution_count": null,
      "outputs": [
        {
          "output_type": "execute_result",
          "data": {
            "text/plain": [
              "(7043, 18)"
            ]
          },
          "metadata": {},
          "execution_count": 3
        }
      ]
    },
    {
      "cell_type": "code",
      "source": [
        "dados.head()"
      ],
      "metadata": {
        "colab": {
          "base_uri": "https://localhost:8080/",
          "height": 226
        },
        "id": "zO9jngAwtqil",
        "outputId": "a2f59a44-65e4-4ea7-cafe-a6bbcda7c457"
      },
      "execution_count": null,
      "outputs": [
        {
          "output_type": "execute_result",
          "data": {
            "text/plain": [
              "   Maior65Anos Conjuge Dependentes  MesesDeContrato TelefoneFixo  \\\n",
              "0            0     Sim         Nao                1          Nao   \n",
              "1            0     Nao         Nao               34          Sim   \n",
              "2            0     Nao         Nao                2          Sim   \n",
              "3            0     Nao         Nao               45          Nao   \n",
              "4            0     Nao         Nao                2          Sim   \n",
              "\n",
              "  VariasLinhasTelefonicas ServicoDeInternet SegurancaOnline BackupOnline  \\\n",
              "0    SemServicoTelefonico               DSL             Nao          Sim   \n",
              "1                     Nao               DSL             Sim          Nao   \n",
              "2                     Nao               DSL             Sim          Sim   \n",
              "3    SemServicoTelefonico               DSL             Sim          Nao   \n",
              "4                     Nao       FibraOptica             Nao          Nao   \n",
              "\n",
              "  SeguroNoDispositivo SuporteTecnico TVaCabo StreamingDeFilmes TipoDeContrato  \\\n",
              "0                 Nao            Nao     Nao               Nao    Mensalmente   \n",
              "1                 Sim            Nao     Nao               Nao          UmAno   \n",
              "2                 Nao            Nao     Nao               Nao    Mensalmente   \n",
              "3                 Sim            Sim     Nao               Nao          UmAno   \n",
              "4                 Nao            Nao     Nao               Nao    Mensalmente   \n",
              "\n",
              "  PagamentoOnline FormaDePagamento  ContaMensal Churn  \n",
              "0             Sim    ChequeDigital        29.85   Nao  \n",
              "1             Nao      ChequePapel        56.95   Nao  \n",
              "2             Sim      ChequePapel        53.85   Sim  \n",
              "3             Nao    DebitoEmConta        42.30   Nao  \n",
              "4             Sim    ChequeDigital        70.70   Sim  "
            ],
            "text/html": [
              "\n",
              "  <div id=\"df-baab8390-89f3-49cf-83f8-82556effb6f7\" class=\"colab-df-container\">\n",
              "    <div>\n",
              "<style scoped>\n",
              "    .dataframe tbody tr th:only-of-type {\n",
              "        vertical-align: middle;\n",
              "    }\n",
              "\n",
              "    .dataframe tbody tr th {\n",
              "        vertical-align: top;\n",
              "    }\n",
              "\n",
              "    .dataframe thead th {\n",
              "        text-align: right;\n",
              "    }\n",
              "</style>\n",
              "<table border=\"1\" class=\"dataframe\">\n",
              "  <thead>\n",
              "    <tr style=\"text-align: right;\">\n",
              "      <th></th>\n",
              "      <th>Maior65Anos</th>\n",
              "      <th>Conjuge</th>\n",
              "      <th>Dependentes</th>\n",
              "      <th>MesesDeContrato</th>\n",
              "      <th>TelefoneFixo</th>\n",
              "      <th>VariasLinhasTelefonicas</th>\n",
              "      <th>ServicoDeInternet</th>\n",
              "      <th>SegurancaOnline</th>\n",
              "      <th>BackupOnline</th>\n",
              "      <th>SeguroNoDispositivo</th>\n",
              "      <th>SuporteTecnico</th>\n",
              "      <th>TVaCabo</th>\n",
              "      <th>StreamingDeFilmes</th>\n",
              "      <th>TipoDeContrato</th>\n",
              "      <th>PagamentoOnline</th>\n",
              "      <th>FormaDePagamento</th>\n",
              "      <th>ContaMensal</th>\n",
              "      <th>Churn</th>\n",
              "    </tr>\n",
              "  </thead>\n",
              "  <tbody>\n",
              "    <tr>\n",
              "      <th>0</th>\n",
              "      <td>0</td>\n",
              "      <td>Sim</td>\n",
              "      <td>Nao</td>\n",
              "      <td>1</td>\n",
              "      <td>Nao</td>\n",
              "      <td>SemServicoTelefonico</td>\n",
              "      <td>DSL</td>\n",
              "      <td>Nao</td>\n",
              "      <td>Sim</td>\n",
              "      <td>Nao</td>\n",
              "      <td>Nao</td>\n",
              "      <td>Nao</td>\n",
              "      <td>Nao</td>\n",
              "      <td>Mensalmente</td>\n",
              "      <td>Sim</td>\n",
              "      <td>ChequeDigital</td>\n",
              "      <td>29.85</td>\n",
              "      <td>Nao</td>\n",
              "    </tr>\n",
              "    <tr>\n",
              "      <th>1</th>\n",
              "      <td>0</td>\n",
              "      <td>Nao</td>\n",
              "      <td>Nao</td>\n",
              "      <td>34</td>\n",
              "      <td>Sim</td>\n",
              "      <td>Nao</td>\n",
              "      <td>DSL</td>\n",
              "      <td>Sim</td>\n",
              "      <td>Nao</td>\n",
              "      <td>Sim</td>\n",
              "      <td>Nao</td>\n",
              "      <td>Nao</td>\n",
              "      <td>Nao</td>\n",
              "      <td>UmAno</td>\n",
              "      <td>Nao</td>\n",
              "      <td>ChequePapel</td>\n",
              "      <td>56.95</td>\n",
              "      <td>Nao</td>\n",
              "    </tr>\n",
              "    <tr>\n",
              "      <th>2</th>\n",
              "      <td>0</td>\n",
              "      <td>Nao</td>\n",
              "      <td>Nao</td>\n",
              "      <td>2</td>\n",
              "      <td>Sim</td>\n",
              "      <td>Nao</td>\n",
              "      <td>DSL</td>\n",
              "      <td>Sim</td>\n",
              "      <td>Sim</td>\n",
              "      <td>Nao</td>\n",
              "      <td>Nao</td>\n",
              "      <td>Nao</td>\n",
              "      <td>Nao</td>\n",
              "      <td>Mensalmente</td>\n",
              "      <td>Sim</td>\n",
              "      <td>ChequePapel</td>\n",
              "      <td>53.85</td>\n",
              "      <td>Sim</td>\n",
              "    </tr>\n",
              "    <tr>\n",
              "      <th>3</th>\n",
              "      <td>0</td>\n",
              "      <td>Nao</td>\n",
              "      <td>Nao</td>\n",
              "      <td>45</td>\n",
              "      <td>Nao</td>\n",
              "      <td>SemServicoTelefonico</td>\n",
              "      <td>DSL</td>\n",
              "      <td>Sim</td>\n",
              "      <td>Nao</td>\n",
              "      <td>Sim</td>\n",
              "      <td>Sim</td>\n",
              "      <td>Nao</td>\n",
              "      <td>Nao</td>\n",
              "      <td>UmAno</td>\n",
              "      <td>Nao</td>\n",
              "      <td>DebitoEmConta</td>\n",
              "      <td>42.30</td>\n",
              "      <td>Nao</td>\n",
              "    </tr>\n",
              "    <tr>\n",
              "      <th>4</th>\n",
              "      <td>0</td>\n",
              "      <td>Nao</td>\n",
              "      <td>Nao</td>\n",
              "      <td>2</td>\n",
              "      <td>Sim</td>\n",
              "      <td>Nao</td>\n",
              "      <td>FibraOptica</td>\n",
              "      <td>Nao</td>\n",
              "      <td>Nao</td>\n",
              "      <td>Nao</td>\n",
              "      <td>Nao</td>\n",
              "      <td>Nao</td>\n",
              "      <td>Nao</td>\n",
              "      <td>Mensalmente</td>\n",
              "      <td>Sim</td>\n",
              "      <td>ChequeDigital</td>\n",
              "      <td>70.70</td>\n",
              "      <td>Sim</td>\n",
              "    </tr>\n",
              "  </tbody>\n",
              "</table>\n",
              "</div>\n",
              "    <div class=\"colab-df-buttons\">\n",
              "\n",
              "  <div class=\"colab-df-container\">\n",
              "    <button class=\"colab-df-convert\" onclick=\"convertToInteractive('df-baab8390-89f3-49cf-83f8-82556effb6f7')\"\n",
              "            title=\"Convert this dataframe to an interactive table.\"\n",
              "            style=\"display:none;\">\n",
              "\n",
              "  <svg xmlns=\"http://www.w3.org/2000/svg\" height=\"24px\" viewBox=\"0 -960 960 960\">\n",
              "    <path d=\"M120-120v-720h720v720H120Zm60-500h600v-160H180v160Zm220 220h160v-160H400v160Zm0 220h160v-160H400v160ZM180-400h160v-160H180v160Zm440 0h160v-160H620v160ZM180-180h160v-160H180v160Zm440 0h160v-160H620v160Z\"/>\n",
              "  </svg>\n",
              "    </button>\n",
              "\n",
              "  <style>\n",
              "    .colab-df-container {\n",
              "      display:flex;\n",
              "      gap: 12px;\n",
              "    }\n",
              "\n",
              "    .colab-df-convert {\n",
              "      background-color: #E8F0FE;\n",
              "      border: none;\n",
              "      border-radius: 50%;\n",
              "      cursor: pointer;\n",
              "      display: none;\n",
              "      fill: #1967D2;\n",
              "      height: 32px;\n",
              "      padding: 0 0 0 0;\n",
              "      width: 32px;\n",
              "    }\n",
              "\n",
              "    .colab-df-convert:hover {\n",
              "      background-color: #E2EBFA;\n",
              "      box-shadow: 0px 1px 2px rgba(60, 64, 67, 0.3), 0px 1px 3px 1px rgba(60, 64, 67, 0.15);\n",
              "      fill: #174EA6;\n",
              "    }\n",
              "\n",
              "    .colab-df-buttons div {\n",
              "      margin-bottom: 4px;\n",
              "    }\n",
              "\n",
              "    [theme=dark] .colab-df-convert {\n",
              "      background-color: #3B4455;\n",
              "      fill: #D2E3FC;\n",
              "    }\n",
              "\n",
              "    [theme=dark] .colab-df-convert:hover {\n",
              "      background-color: #434B5C;\n",
              "      box-shadow: 0px 1px 3px 1px rgba(0, 0, 0, 0.15);\n",
              "      filter: drop-shadow(0px 1px 2px rgba(0, 0, 0, 0.3));\n",
              "      fill: #FFFFFF;\n",
              "    }\n",
              "  </style>\n",
              "\n",
              "    <script>\n",
              "      const buttonEl =\n",
              "        document.querySelector('#df-baab8390-89f3-49cf-83f8-82556effb6f7 button.colab-df-convert');\n",
              "      buttonEl.style.display =\n",
              "        google.colab.kernel.accessAllowed ? 'block' : 'none';\n",
              "\n",
              "      async function convertToInteractive(key) {\n",
              "        const element = document.querySelector('#df-baab8390-89f3-49cf-83f8-82556effb6f7');\n",
              "        const dataTable =\n",
              "          await google.colab.kernel.invokeFunction('convertToInteractive',\n",
              "                                                    [key], {});\n",
              "        if (!dataTable) return;\n",
              "\n",
              "        const docLinkHtml = 'Like what you see? Visit the ' +\n",
              "          '<a target=\"_blank\" href=https://colab.research.google.com/notebooks/data_table.ipynb>data table notebook</a>'\n",
              "          + ' to learn more about interactive tables.';\n",
              "        element.innerHTML = '';\n",
              "        dataTable['output_type'] = 'display_data';\n",
              "        await google.colab.output.renderOutput(dataTable, element);\n",
              "        const docLink = document.createElement('div');\n",
              "        docLink.innerHTML = docLinkHtml;\n",
              "        element.appendChild(docLink);\n",
              "      }\n",
              "    </script>\n",
              "  </div>\n",
              "\n",
              "\n",
              "<div id=\"df-9f9f11fe-53cc-482d-b787-0ea6407002a1\">\n",
              "  <button class=\"colab-df-quickchart\" onclick=\"quickchart('df-9f9f11fe-53cc-482d-b787-0ea6407002a1')\"\n",
              "            title=\"Suggest charts\"\n",
              "            style=\"display:none;\">\n",
              "\n",
              "<svg xmlns=\"http://www.w3.org/2000/svg\" height=\"24px\"viewBox=\"0 0 24 24\"\n",
              "     width=\"24px\">\n",
              "    <g>\n",
              "        <path d=\"M19 3H5c-1.1 0-2 .9-2 2v14c0 1.1.9 2 2 2h14c1.1 0 2-.9 2-2V5c0-1.1-.9-2-2-2zM9 17H7v-7h2v7zm4 0h-2V7h2v10zm4 0h-2v-4h2v4z\"/>\n",
              "    </g>\n",
              "</svg>\n",
              "  </button>\n",
              "\n",
              "<style>\n",
              "  .colab-df-quickchart {\n",
              "      --bg-color: #E8F0FE;\n",
              "      --fill-color: #1967D2;\n",
              "      --hover-bg-color: #E2EBFA;\n",
              "      --hover-fill-color: #174EA6;\n",
              "      --disabled-fill-color: #AAA;\n",
              "      --disabled-bg-color: #DDD;\n",
              "  }\n",
              "\n",
              "  [theme=dark] .colab-df-quickchart {\n",
              "      --bg-color: #3B4455;\n",
              "      --fill-color: #D2E3FC;\n",
              "      --hover-bg-color: #434B5C;\n",
              "      --hover-fill-color: #FFFFFF;\n",
              "      --disabled-bg-color: #3B4455;\n",
              "      --disabled-fill-color: #666;\n",
              "  }\n",
              "\n",
              "  .colab-df-quickchart {\n",
              "    background-color: var(--bg-color);\n",
              "    border: none;\n",
              "    border-radius: 50%;\n",
              "    cursor: pointer;\n",
              "    display: none;\n",
              "    fill: var(--fill-color);\n",
              "    height: 32px;\n",
              "    padding: 0;\n",
              "    width: 32px;\n",
              "  }\n",
              "\n",
              "  .colab-df-quickchart:hover {\n",
              "    background-color: var(--hover-bg-color);\n",
              "    box-shadow: 0 1px 2px rgba(60, 64, 67, 0.3), 0 1px 3px 1px rgba(60, 64, 67, 0.15);\n",
              "    fill: var(--button-hover-fill-color);\n",
              "  }\n",
              "\n",
              "  .colab-df-quickchart-complete:disabled,\n",
              "  .colab-df-quickchart-complete:disabled:hover {\n",
              "    background-color: var(--disabled-bg-color);\n",
              "    fill: var(--disabled-fill-color);\n",
              "    box-shadow: none;\n",
              "  }\n",
              "\n",
              "  .colab-df-spinner {\n",
              "    border: 2px solid var(--fill-color);\n",
              "    border-color: transparent;\n",
              "    border-bottom-color: var(--fill-color);\n",
              "    animation:\n",
              "      spin 1s steps(1) infinite;\n",
              "  }\n",
              "\n",
              "  @keyframes spin {\n",
              "    0% {\n",
              "      border-color: transparent;\n",
              "      border-bottom-color: var(--fill-color);\n",
              "      border-left-color: var(--fill-color);\n",
              "    }\n",
              "    20% {\n",
              "      border-color: transparent;\n",
              "      border-left-color: var(--fill-color);\n",
              "      border-top-color: var(--fill-color);\n",
              "    }\n",
              "    30% {\n",
              "      border-color: transparent;\n",
              "      border-left-color: var(--fill-color);\n",
              "      border-top-color: var(--fill-color);\n",
              "      border-right-color: var(--fill-color);\n",
              "    }\n",
              "    40% {\n",
              "      border-color: transparent;\n",
              "      border-right-color: var(--fill-color);\n",
              "      border-top-color: var(--fill-color);\n",
              "    }\n",
              "    60% {\n",
              "      border-color: transparent;\n",
              "      border-right-color: var(--fill-color);\n",
              "    }\n",
              "    80% {\n",
              "      border-color: transparent;\n",
              "      border-right-color: var(--fill-color);\n",
              "      border-bottom-color: var(--fill-color);\n",
              "    }\n",
              "    90% {\n",
              "      border-color: transparent;\n",
              "      border-bottom-color: var(--fill-color);\n",
              "    }\n",
              "  }\n",
              "</style>\n",
              "\n",
              "  <script>\n",
              "    async function quickchart(key) {\n",
              "      const quickchartButtonEl =\n",
              "        document.querySelector('#' + key + ' button');\n",
              "      quickchartButtonEl.disabled = true;  // To prevent multiple clicks.\n",
              "      quickchartButtonEl.classList.add('colab-df-spinner');\n",
              "      try {\n",
              "        const charts = await google.colab.kernel.invokeFunction(\n",
              "            'suggestCharts', [key], {});\n",
              "      } catch (error) {\n",
              "        console.error('Error during call to suggestCharts:', error);\n",
              "      }\n",
              "      quickchartButtonEl.classList.remove('colab-df-spinner');\n",
              "      quickchartButtonEl.classList.add('colab-df-quickchart-complete');\n",
              "    }\n",
              "    (() => {\n",
              "      let quickchartButtonEl =\n",
              "        document.querySelector('#df-9f9f11fe-53cc-482d-b787-0ea6407002a1 button');\n",
              "      quickchartButtonEl.style.display =\n",
              "        google.colab.kernel.accessAllowed ? 'block' : 'none';\n",
              "    })();\n",
              "  </script>\n",
              "</div>\n",
              "\n",
              "    </div>\n",
              "  </div>\n"
            ]
          },
          "metadata": {},
          "execution_count": 4
        }
      ]
    },
    {
      "cell_type": "code",
      "source": [
        "traducao_dic = {'Sim': 1,\n",
        "                'Nao': 0}\n",
        "dadosmodificados = dados[['Conjuge', 'Dependentes', 'TelefoneFixo', 'PagamentoOnline', 'Churn']].replace(traducao_dic)\n",
        "\n",
        "dadosmodificados.head()"
      ],
      "metadata": {
        "colab": {
          "base_uri": "https://localhost:8080/",
          "height": 206
        },
        "id": "XgQHCzzg4X60",
        "outputId": "3eb03e64-de6d-4471-a94a-ad7aa9c4d927"
      },
      "execution_count": null,
      "outputs": [
        {
          "output_type": "execute_result",
          "data": {
            "text/plain": [
              "   Conjuge  Dependentes  TelefoneFixo  PagamentoOnline  Churn\n",
              "0        1            0             0                1      0\n",
              "1        0            0             1                0      0\n",
              "2        0            0             1                1      1\n",
              "3        0            0             0                0      0\n",
              "4        0            0             1                1      1"
            ],
            "text/html": [
              "\n",
              "  <div id=\"df-0c6ac0e2-6c5a-4ef5-9863-ea78cfd324a1\" class=\"colab-df-container\">\n",
              "    <div>\n",
              "<style scoped>\n",
              "    .dataframe tbody tr th:only-of-type {\n",
              "        vertical-align: middle;\n",
              "    }\n",
              "\n",
              "    .dataframe tbody tr th {\n",
              "        vertical-align: top;\n",
              "    }\n",
              "\n",
              "    .dataframe thead th {\n",
              "        text-align: right;\n",
              "    }\n",
              "</style>\n",
              "<table border=\"1\" class=\"dataframe\">\n",
              "  <thead>\n",
              "    <tr style=\"text-align: right;\">\n",
              "      <th></th>\n",
              "      <th>Conjuge</th>\n",
              "      <th>Dependentes</th>\n",
              "      <th>TelefoneFixo</th>\n",
              "      <th>PagamentoOnline</th>\n",
              "      <th>Churn</th>\n",
              "    </tr>\n",
              "  </thead>\n",
              "  <tbody>\n",
              "    <tr>\n",
              "      <th>0</th>\n",
              "      <td>1</td>\n",
              "      <td>0</td>\n",
              "      <td>0</td>\n",
              "      <td>1</td>\n",
              "      <td>0</td>\n",
              "    </tr>\n",
              "    <tr>\n",
              "      <th>1</th>\n",
              "      <td>0</td>\n",
              "      <td>0</td>\n",
              "      <td>1</td>\n",
              "      <td>0</td>\n",
              "      <td>0</td>\n",
              "    </tr>\n",
              "    <tr>\n",
              "      <th>2</th>\n",
              "      <td>0</td>\n",
              "      <td>0</td>\n",
              "      <td>1</td>\n",
              "      <td>1</td>\n",
              "      <td>1</td>\n",
              "    </tr>\n",
              "    <tr>\n",
              "      <th>3</th>\n",
              "      <td>0</td>\n",
              "      <td>0</td>\n",
              "      <td>0</td>\n",
              "      <td>0</td>\n",
              "      <td>0</td>\n",
              "    </tr>\n",
              "    <tr>\n",
              "      <th>4</th>\n",
              "      <td>0</td>\n",
              "      <td>0</td>\n",
              "      <td>1</td>\n",
              "      <td>1</td>\n",
              "      <td>1</td>\n",
              "    </tr>\n",
              "  </tbody>\n",
              "</table>\n",
              "</div>\n",
              "    <div class=\"colab-df-buttons\">\n",
              "\n",
              "  <div class=\"colab-df-container\">\n",
              "    <button class=\"colab-df-convert\" onclick=\"convertToInteractive('df-0c6ac0e2-6c5a-4ef5-9863-ea78cfd324a1')\"\n",
              "            title=\"Convert this dataframe to an interactive table.\"\n",
              "            style=\"display:none;\">\n",
              "\n",
              "  <svg xmlns=\"http://www.w3.org/2000/svg\" height=\"24px\" viewBox=\"0 -960 960 960\">\n",
              "    <path d=\"M120-120v-720h720v720H120Zm60-500h600v-160H180v160Zm220 220h160v-160H400v160Zm0 220h160v-160H400v160ZM180-400h160v-160H180v160Zm440 0h160v-160H620v160ZM180-180h160v-160H180v160Zm440 0h160v-160H620v160Z\"/>\n",
              "  </svg>\n",
              "    </button>\n",
              "\n",
              "  <style>\n",
              "    .colab-df-container {\n",
              "      display:flex;\n",
              "      gap: 12px;\n",
              "    }\n",
              "\n",
              "    .colab-df-convert {\n",
              "      background-color: #E8F0FE;\n",
              "      border: none;\n",
              "      border-radius: 50%;\n",
              "      cursor: pointer;\n",
              "      display: none;\n",
              "      fill: #1967D2;\n",
              "      height: 32px;\n",
              "      padding: 0 0 0 0;\n",
              "      width: 32px;\n",
              "    }\n",
              "\n",
              "    .colab-df-convert:hover {\n",
              "      background-color: #E2EBFA;\n",
              "      box-shadow: 0px 1px 2px rgba(60, 64, 67, 0.3), 0px 1px 3px 1px rgba(60, 64, 67, 0.15);\n",
              "      fill: #174EA6;\n",
              "    }\n",
              "\n",
              "    .colab-df-buttons div {\n",
              "      margin-bottom: 4px;\n",
              "    }\n",
              "\n",
              "    [theme=dark] .colab-df-convert {\n",
              "      background-color: #3B4455;\n",
              "      fill: #D2E3FC;\n",
              "    }\n",
              "\n",
              "    [theme=dark] .colab-df-convert:hover {\n",
              "      background-color: #434B5C;\n",
              "      box-shadow: 0px 1px 3px 1px rgba(0, 0, 0, 0.15);\n",
              "      filter: drop-shadow(0px 1px 2px rgba(0, 0, 0, 0.3));\n",
              "      fill: #FFFFFF;\n",
              "    }\n",
              "  </style>\n",
              "\n",
              "    <script>\n",
              "      const buttonEl =\n",
              "        document.querySelector('#df-0c6ac0e2-6c5a-4ef5-9863-ea78cfd324a1 button.colab-df-convert');\n",
              "      buttonEl.style.display =\n",
              "        google.colab.kernel.accessAllowed ? 'block' : 'none';\n",
              "\n",
              "      async function convertToInteractive(key) {\n",
              "        const element = document.querySelector('#df-0c6ac0e2-6c5a-4ef5-9863-ea78cfd324a1');\n",
              "        const dataTable =\n",
              "          await google.colab.kernel.invokeFunction('convertToInteractive',\n",
              "                                                    [key], {});\n",
              "        if (!dataTable) return;\n",
              "\n",
              "        const docLinkHtml = 'Like what you see? Visit the ' +\n",
              "          '<a target=\"_blank\" href=https://colab.research.google.com/notebooks/data_table.ipynb>data table notebook</a>'\n",
              "          + ' to learn more about interactive tables.';\n",
              "        element.innerHTML = '';\n",
              "        dataTable['output_type'] = 'display_data';\n",
              "        await google.colab.output.renderOutput(dataTable, element);\n",
              "        const docLink = document.createElement('div');\n",
              "        docLink.innerHTML = docLinkHtml;\n",
              "        element.appendChild(docLink);\n",
              "      }\n",
              "    </script>\n",
              "  </div>\n",
              "\n",
              "\n",
              "<div id=\"df-83b06331-3bbb-4c3a-9092-bc6a22ccb68e\">\n",
              "  <button class=\"colab-df-quickchart\" onclick=\"quickchart('df-83b06331-3bbb-4c3a-9092-bc6a22ccb68e')\"\n",
              "            title=\"Suggest charts\"\n",
              "            style=\"display:none;\">\n",
              "\n",
              "<svg xmlns=\"http://www.w3.org/2000/svg\" height=\"24px\"viewBox=\"0 0 24 24\"\n",
              "     width=\"24px\">\n",
              "    <g>\n",
              "        <path d=\"M19 3H5c-1.1 0-2 .9-2 2v14c0 1.1.9 2 2 2h14c1.1 0 2-.9 2-2V5c0-1.1-.9-2-2-2zM9 17H7v-7h2v7zm4 0h-2V7h2v10zm4 0h-2v-4h2v4z\"/>\n",
              "    </g>\n",
              "</svg>\n",
              "  </button>\n",
              "\n",
              "<style>\n",
              "  .colab-df-quickchart {\n",
              "      --bg-color: #E8F0FE;\n",
              "      --fill-color: #1967D2;\n",
              "      --hover-bg-color: #E2EBFA;\n",
              "      --hover-fill-color: #174EA6;\n",
              "      --disabled-fill-color: #AAA;\n",
              "      --disabled-bg-color: #DDD;\n",
              "  }\n",
              "\n",
              "  [theme=dark] .colab-df-quickchart {\n",
              "      --bg-color: #3B4455;\n",
              "      --fill-color: #D2E3FC;\n",
              "      --hover-bg-color: #434B5C;\n",
              "      --hover-fill-color: #FFFFFF;\n",
              "      --disabled-bg-color: #3B4455;\n",
              "      --disabled-fill-color: #666;\n",
              "  }\n",
              "\n",
              "  .colab-df-quickchart {\n",
              "    background-color: var(--bg-color);\n",
              "    border: none;\n",
              "    border-radius: 50%;\n",
              "    cursor: pointer;\n",
              "    display: none;\n",
              "    fill: var(--fill-color);\n",
              "    height: 32px;\n",
              "    padding: 0;\n",
              "    width: 32px;\n",
              "  }\n",
              "\n",
              "  .colab-df-quickchart:hover {\n",
              "    background-color: var(--hover-bg-color);\n",
              "    box-shadow: 0 1px 2px rgba(60, 64, 67, 0.3), 0 1px 3px 1px rgba(60, 64, 67, 0.15);\n",
              "    fill: var(--button-hover-fill-color);\n",
              "  }\n",
              "\n",
              "  .colab-df-quickchart-complete:disabled,\n",
              "  .colab-df-quickchart-complete:disabled:hover {\n",
              "    background-color: var(--disabled-bg-color);\n",
              "    fill: var(--disabled-fill-color);\n",
              "    box-shadow: none;\n",
              "  }\n",
              "\n",
              "  .colab-df-spinner {\n",
              "    border: 2px solid var(--fill-color);\n",
              "    border-color: transparent;\n",
              "    border-bottom-color: var(--fill-color);\n",
              "    animation:\n",
              "      spin 1s steps(1) infinite;\n",
              "  }\n",
              "\n",
              "  @keyframes spin {\n",
              "    0% {\n",
              "      border-color: transparent;\n",
              "      border-bottom-color: var(--fill-color);\n",
              "      border-left-color: var(--fill-color);\n",
              "    }\n",
              "    20% {\n",
              "      border-color: transparent;\n",
              "      border-left-color: var(--fill-color);\n",
              "      border-top-color: var(--fill-color);\n",
              "    }\n",
              "    30% {\n",
              "      border-color: transparent;\n",
              "      border-left-color: var(--fill-color);\n",
              "      border-top-color: var(--fill-color);\n",
              "      border-right-color: var(--fill-color);\n",
              "    }\n",
              "    40% {\n",
              "      border-color: transparent;\n",
              "      border-right-color: var(--fill-color);\n",
              "      border-top-color: var(--fill-color);\n",
              "    }\n",
              "    60% {\n",
              "      border-color: transparent;\n",
              "      border-right-color: var(--fill-color);\n",
              "    }\n",
              "    80% {\n",
              "      border-color: transparent;\n",
              "      border-right-color: var(--fill-color);\n",
              "      border-bottom-color: var(--fill-color);\n",
              "    }\n",
              "    90% {\n",
              "      border-color: transparent;\n",
              "      border-bottom-color: var(--fill-color);\n",
              "    }\n",
              "  }\n",
              "</style>\n",
              "\n",
              "  <script>\n",
              "    async function quickchart(key) {\n",
              "      const quickchartButtonEl =\n",
              "        document.querySelector('#' + key + ' button');\n",
              "      quickchartButtonEl.disabled = true;  // To prevent multiple clicks.\n",
              "      quickchartButtonEl.classList.add('colab-df-spinner');\n",
              "      try {\n",
              "        const charts = await google.colab.kernel.invokeFunction(\n",
              "            'suggestCharts', [key], {});\n",
              "      } catch (error) {\n",
              "        console.error('Error during call to suggestCharts:', error);\n",
              "      }\n",
              "      quickchartButtonEl.classList.remove('colab-df-spinner');\n",
              "      quickchartButtonEl.classList.add('colab-df-quickchart-complete');\n",
              "    }\n",
              "    (() => {\n",
              "      let quickchartButtonEl =\n",
              "        document.querySelector('#df-83b06331-3bbb-4c3a-9092-bc6a22ccb68e button');\n",
              "      quickchartButtonEl.style.display =\n",
              "        google.colab.kernel.accessAllowed ? 'block' : 'none';\n",
              "    })();\n",
              "  </script>\n",
              "</div>\n",
              "\n",
              "    </div>\n",
              "  </div>\n"
            ]
          },
          "metadata": {},
          "execution_count": 5
        }
      ]
    },
    {
      "cell_type": "code",
      "source": [
        "dummie_dados = pd.get_dummies(dados.drop(['Conjuge', 'Dependentes', 'TelefoneFixo', 'PagamentoOnline', 'Churn'], axis=1))"
      ],
      "metadata": {
        "id": "ILW3nC4Q--09"
      },
      "execution_count": null,
      "outputs": []
    },
    {
      "cell_type": "code",
      "source": [
        "dados_final = pd.concat([dadosmodificados, dummie_dados], axis=1)"
      ],
      "metadata": {
        "id": "Gw-ZHrjwA1CJ"
      },
      "execution_count": null,
      "outputs": []
    },
    {
      "cell_type": "code",
      "source": [
        "dados_final.head()"
      ],
      "metadata": {
        "colab": {
          "base_uri": "https://localhost:8080/",
          "height": 256
        },
        "id": "l-xRhWZtBASJ",
        "outputId": "e7506728-84c4-4df8-cd13-20987100def3"
      },
      "execution_count": null,
      "outputs": [
        {
          "output_type": "execute_result",
          "data": {
            "text/plain": [
              "   Conjuge  Dependentes  TelefoneFixo  PagamentoOnline  Churn  Maior65Anos  \\\n",
              "0        1            0             0                1      0            0   \n",
              "1        0            0             1                0      0            0   \n",
              "2        0            0             1                1      1            0   \n",
              "3        0            0             0                0      0            0   \n",
              "4        0            0             1                1      1            0   \n",
              "\n",
              "   MesesDeContrato  ContaMensal  VariasLinhasTelefonicas_Nao  \\\n",
              "0                1        29.85                            0   \n",
              "1               34        56.95                            1   \n",
              "2                2        53.85                            1   \n",
              "3               45        42.30                            0   \n",
              "4                2        70.70                            1   \n",
              "\n",
              "   VariasLinhasTelefonicas_SemServicoTelefonico  ...  StreamingDeFilmes_Nao  \\\n",
              "0                                             1  ...                      1   \n",
              "1                                             0  ...                      1   \n",
              "2                                             0  ...                      1   \n",
              "3                                             1  ...                      1   \n",
              "4                                             0  ...                      1   \n",
              "\n",
              "   StreamingDeFilmes_SemServicoDeInternet  StreamingDeFilmes_Sim  \\\n",
              "0                                       0                      0   \n",
              "1                                       0                      0   \n",
              "2                                       0                      0   \n",
              "3                                       0                      0   \n",
              "4                                       0                      0   \n",
              "\n",
              "   TipoDeContrato_DoisAnos  TipoDeContrato_Mensalmente  TipoDeContrato_UmAno  \\\n",
              "0                        0                           1                     0   \n",
              "1                        0                           0                     1   \n",
              "2                        0                           1                     0   \n",
              "3                        0                           0                     1   \n",
              "4                        0                           1                     0   \n",
              "\n",
              "   FormaDePagamento_CartaoDeCredito  FormaDePagamento_ChequeDigital  \\\n",
              "0                                 0                               1   \n",
              "1                                 0                               0   \n",
              "2                                 0                               0   \n",
              "3                                 0                               0   \n",
              "4                                 0                               1   \n",
              "\n",
              "   FormaDePagamento_ChequePapel  FormaDePagamento_DebitoEmConta  \n",
              "0                             0                               0  \n",
              "1                             1                               0  \n",
              "2                             1                               0  \n",
              "3                             0                               1  \n",
              "4                             0                               0  \n",
              "\n",
              "[5 rows x 39 columns]"
            ],
            "text/html": [
              "\n",
              "  <div id=\"df-e480b70b-05ad-4772-8491-1bae000ef187\" class=\"colab-df-container\">\n",
              "    <div>\n",
              "<style scoped>\n",
              "    .dataframe tbody tr th:only-of-type {\n",
              "        vertical-align: middle;\n",
              "    }\n",
              "\n",
              "    .dataframe tbody tr th {\n",
              "        vertical-align: top;\n",
              "    }\n",
              "\n",
              "    .dataframe thead th {\n",
              "        text-align: right;\n",
              "    }\n",
              "</style>\n",
              "<table border=\"1\" class=\"dataframe\">\n",
              "  <thead>\n",
              "    <tr style=\"text-align: right;\">\n",
              "      <th></th>\n",
              "      <th>Conjuge</th>\n",
              "      <th>Dependentes</th>\n",
              "      <th>TelefoneFixo</th>\n",
              "      <th>PagamentoOnline</th>\n",
              "      <th>Churn</th>\n",
              "      <th>Maior65Anos</th>\n",
              "      <th>MesesDeContrato</th>\n",
              "      <th>ContaMensal</th>\n",
              "      <th>VariasLinhasTelefonicas_Nao</th>\n",
              "      <th>VariasLinhasTelefonicas_SemServicoTelefonico</th>\n",
              "      <th>...</th>\n",
              "      <th>StreamingDeFilmes_Nao</th>\n",
              "      <th>StreamingDeFilmes_SemServicoDeInternet</th>\n",
              "      <th>StreamingDeFilmes_Sim</th>\n",
              "      <th>TipoDeContrato_DoisAnos</th>\n",
              "      <th>TipoDeContrato_Mensalmente</th>\n",
              "      <th>TipoDeContrato_UmAno</th>\n",
              "      <th>FormaDePagamento_CartaoDeCredito</th>\n",
              "      <th>FormaDePagamento_ChequeDigital</th>\n",
              "      <th>FormaDePagamento_ChequePapel</th>\n",
              "      <th>FormaDePagamento_DebitoEmConta</th>\n",
              "    </tr>\n",
              "  </thead>\n",
              "  <tbody>\n",
              "    <tr>\n",
              "      <th>0</th>\n",
              "      <td>1</td>\n",
              "      <td>0</td>\n",
              "      <td>0</td>\n",
              "      <td>1</td>\n",
              "      <td>0</td>\n",
              "      <td>0</td>\n",
              "      <td>1</td>\n",
              "      <td>29.85</td>\n",
              "      <td>0</td>\n",
              "      <td>1</td>\n",
              "      <td>...</td>\n",
              "      <td>1</td>\n",
              "      <td>0</td>\n",
              "      <td>0</td>\n",
              "      <td>0</td>\n",
              "      <td>1</td>\n",
              "      <td>0</td>\n",
              "      <td>0</td>\n",
              "      <td>1</td>\n",
              "      <td>0</td>\n",
              "      <td>0</td>\n",
              "    </tr>\n",
              "    <tr>\n",
              "      <th>1</th>\n",
              "      <td>0</td>\n",
              "      <td>0</td>\n",
              "      <td>1</td>\n",
              "      <td>0</td>\n",
              "      <td>0</td>\n",
              "      <td>0</td>\n",
              "      <td>34</td>\n",
              "      <td>56.95</td>\n",
              "      <td>1</td>\n",
              "      <td>0</td>\n",
              "      <td>...</td>\n",
              "      <td>1</td>\n",
              "      <td>0</td>\n",
              "      <td>0</td>\n",
              "      <td>0</td>\n",
              "      <td>0</td>\n",
              "      <td>1</td>\n",
              "      <td>0</td>\n",
              "      <td>0</td>\n",
              "      <td>1</td>\n",
              "      <td>0</td>\n",
              "    </tr>\n",
              "    <tr>\n",
              "      <th>2</th>\n",
              "      <td>0</td>\n",
              "      <td>0</td>\n",
              "      <td>1</td>\n",
              "      <td>1</td>\n",
              "      <td>1</td>\n",
              "      <td>0</td>\n",
              "      <td>2</td>\n",
              "      <td>53.85</td>\n",
              "      <td>1</td>\n",
              "      <td>0</td>\n",
              "      <td>...</td>\n",
              "      <td>1</td>\n",
              "      <td>0</td>\n",
              "      <td>0</td>\n",
              "      <td>0</td>\n",
              "      <td>1</td>\n",
              "      <td>0</td>\n",
              "      <td>0</td>\n",
              "      <td>0</td>\n",
              "      <td>1</td>\n",
              "      <td>0</td>\n",
              "    </tr>\n",
              "    <tr>\n",
              "      <th>3</th>\n",
              "      <td>0</td>\n",
              "      <td>0</td>\n",
              "      <td>0</td>\n",
              "      <td>0</td>\n",
              "      <td>0</td>\n",
              "      <td>0</td>\n",
              "      <td>45</td>\n",
              "      <td>42.30</td>\n",
              "      <td>0</td>\n",
              "      <td>1</td>\n",
              "      <td>...</td>\n",
              "      <td>1</td>\n",
              "      <td>0</td>\n",
              "      <td>0</td>\n",
              "      <td>0</td>\n",
              "      <td>0</td>\n",
              "      <td>1</td>\n",
              "      <td>0</td>\n",
              "      <td>0</td>\n",
              "      <td>0</td>\n",
              "      <td>1</td>\n",
              "    </tr>\n",
              "    <tr>\n",
              "      <th>4</th>\n",
              "      <td>0</td>\n",
              "      <td>0</td>\n",
              "      <td>1</td>\n",
              "      <td>1</td>\n",
              "      <td>1</td>\n",
              "      <td>0</td>\n",
              "      <td>2</td>\n",
              "      <td>70.70</td>\n",
              "      <td>1</td>\n",
              "      <td>0</td>\n",
              "      <td>...</td>\n",
              "      <td>1</td>\n",
              "      <td>0</td>\n",
              "      <td>0</td>\n",
              "      <td>0</td>\n",
              "      <td>1</td>\n",
              "      <td>0</td>\n",
              "      <td>0</td>\n",
              "      <td>1</td>\n",
              "      <td>0</td>\n",
              "      <td>0</td>\n",
              "    </tr>\n",
              "  </tbody>\n",
              "</table>\n",
              "<p>5 rows × 39 columns</p>\n",
              "</div>\n",
              "    <div class=\"colab-df-buttons\">\n",
              "\n",
              "  <div class=\"colab-df-container\">\n",
              "    <button class=\"colab-df-convert\" onclick=\"convertToInteractive('df-e480b70b-05ad-4772-8491-1bae000ef187')\"\n",
              "            title=\"Convert this dataframe to an interactive table.\"\n",
              "            style=\"display:none;\">\n",
              "\n",
              "  <svg xmlns=\"http://www.w3.org/2000/svg\" height=\"24px\" viewBox=\"0 -960 960 960\">\n",
              "    <path d=\"M120-120v-720h720v720H120Zm60-500h600v-160H180v160Zm220 220h160v-160H400v160Zm0 220h160v-160H400v160ZM180-400h160v-160H180v160Zm440 0h160v-160H620v160ZM180-180h160v-160H180v160Zm440 0h160v-160H620v160Z\"/>\n",
              "  </svg>\n",
              "    </button>\n",
              "\n",
              "  <style>\n",
              "    .colab-df-container {\n",
              "      display:flex;\n",
              "      gap: 12px;\n",
              "    }\n",
              "\n",
              "    .colab-df-convert {\n",
              "      background-color: #E8F0FE;\n",
              "      border: none;\n",
              "      border-radius: 50%;\n",
              "      cursor: pointer;\n",
              "      display: none;\n",
              "      fill: #1967D2;\n",
              "      height: 32px;\n",
              "      padding: 0 0 0 0;\n",
              "      width: 32px;\n",
              "    }\n",
              "\n",
              "    .colab-df-convert:hover {\n",
              "      background-color: #E2EBFA;\n",
              "      box-shadow: 0px 1px 2px rgba(60, 64, 67, 0.3), 0px 1px 3px 1px rgba(60, 64, 67, 0.15);\n",
              "      fill: #174EA6;\n",
              "    }\n",
              "\n",
              "    .colab-df-buttons div {\n",
              "      margin-bottom: 4px;\n",
              "    }\n",
              "\n",
              "    [theme=dark] .colab-df-convert {\n",
              "      background-color: #3B4455;\n",
              "      fill: #D2E3FC;\n",
              "    }\n",
              "\n",
              "    [theme=dark] .colab-df-convert:hover {\n",
              "      background-color: #434B5C;\n",
              "      box-shadow: 0px 1px 3px 1px rgba(0, 0, 0, 0.15);\n",
              "      filter: drop-shadow(0px 1px 2px rgba(0, 0, 0, 0.3));\n",
              "      fill: #FFFFFF;\n",
              "    }\n",
              "  </style>\n",
              "\n",
              "    <script>\n",
              "      const buttonEl =\n",
              "        document.querySelector('#df-e480b70b-05ad-4772-8491-1bae000ef187 button.colab-df-convert');\n",
              "      buttonEl.style.display =\n",
              "        google.colab.kernel.accessAllowed ? 'block' : 'none';\n",
              "\n",
              "      async function convertToInteractive(key) {\n",
              "        const element = document.querySelector('#df-e480b70b-05ad-4772-8491-1bae000ef187');\n",
              "        const dataTable =\n",
              "          await google.colab.kernel.invokeFunction('convertToInteractive',\n",
              "                                                    [key], {});\n",
              "        if (!dataTable) return;\n",
              "\n",
              "        const docLinkHtml = 'Like what you see? Visit the ' +\n",
              "          '<a target=\"_blank\" href=https://colab.research.google.com/notebooks/data_table.ipynb>data table notebook</a>'\n",
              "          + ' to learn more about interactive tables.';\n",
              "        element.innerHTML = '';\n",
              "        dataTable['output_type'] = 'display_data';\n",
              "        await google.colab.output.renderOutput(dataTable, element);\n",
              "        const docLink = document.createElement('div');\n",
              "        docLink.innerHTML = docLinkHtml;\n",
              "        element.appendChild(docLink);\n",
              "      }\n",
              "    </script>\n",
              "  </div>\n",
              "\n",
              "\n",
              "<div id=\"df-dfaacd90-16a2-431a-9959-de41a477dd41\">\n",
              "  <button class=\"colab-df-quickchart\" onclick=\"quickchart('df-dfaacd90-16a2-431a-9959-de41a477dd41')\"\n",
              "            title=\"Suggest charts\"\n",
              "            style=\"display:none;\">\n",
              "\n",
              "<svg xmlns=\"http://www.w3.org/2000/svg\" height=\"24px\"viewBox=\"0 0 24 24\"\n",
              "     width=\"24px\">\n",
              "    <g>\n",
              "        <path d=\"M19 3H5c-1.1 0-2 .9-2 2v14c0 1.1.9 2 2 2h14c1.1 0 2-.9 2-2V5c0-1.1-.9-2-2-2zM9 17H7v-7h2v7zm4 0h-2V7h2v10zm4 0h-2v-4h2v4z\"/>\n",
              "    </g>\n",
              "</svg>\n",
              "  </button>\n",
              "\n",
              "<style>\n",
              "  .colab-df-quickchart {\n",
              "      --bg-color: #E8F0FE;\n",
              "      --fill-color: #1967D2;\n",
              "      --hover-bg-color: #E2EBFA;\n",
              "      --hover-fill-color: #174EA6;\n",
              "      --disabled-fill-color: #AAA;\n",
              "      --disabled-bg-color: #DDD;\n",
              "  }\n",
              "\n",
              "  [theme=dark] .colab-df-quickchart {\n",
              "      --bg-color: #3B4455;\n",
              "      --fill-color: #D2E3FC;\n",
              "      --hover-bg-color: #434B5C;\n",
              "      --hover-fill-color: #FFFFFF;\n",
              "      --disabled-bg-color: #3B4455;\n",
              "      --disabled-fill-color: #666;\n",
              "  }\n",
              "\n",
              "  .colab-df-quickchart {\n",
              "    background-color: var(--bg-color);\n",
              "    border: none;\n",
              "    border-radius: 50%;\n",
              "    cursor: pointer;\n",
              "    display: none;\n",
              "    fill: var(--fill-color);\n",
              "    height: 32px;\n",
              "    padding: 0;\n",
              "    width: 32px;\n",
              "  }\n",
              "\n",
              "  .colab-df-quickchart:hover {\n",
              "    background-color: var(--hover-bg-color);\n",
              "    box-shadow: 0 1px 2px rgba(60, 64, 67, 0.3), 0 1px 3px 1px rgba(60, 64, 67, 0.15);\n",
              "    fill: var(--button-hover-fill-color);\n",
              "  }\n",
              "\n",
              "  .colab-df-quickchart-complete:disabled,\n",
              "  .colab-df-quickchart-complete:disabled:hover {\n",
              "    background-color: var(--disabled-bg-color);\n",
              "    fill: var(--disabled-fill-color);\n",
              "    box-shadow: none;\n",
              "  }\n",
              "\n",
              "  .colab-df-spinner {\n",
              "    border: 2px solid var(--fill-color);\n",
              "    border-color: transparent;\n",
              "    border-bottom-color: var(--fill-color);\n",
              "    animation:\n",
              "      spin 1s steps(1) infinite;\n",
              "  }\n",
              "\n",
              "  @keyframes spin {\n",
              "    0% {\n",
              "      border-color: transparent;\n",
              "      border-bottom-color: var(--fill-color);\n",
              "      border-left-color: var(--fill-color);\n",
              "    }\n",
              "    20% {\n",
              "      border-color: transparent;\n",
              "      border-left-color: var(--fill-color);\n",
              "      border-top-color: var(--fill-color);\n",
              "    }\n",
              "    30% {\n",
              "      border-color: transparent;\n",
              "      border-left-color: var(--fill-color);\n",
              "      border-top-color: var(--fill-color);\n",
              "      border-right-color: var(--fill-color);\n",
              "    }\n",
              "    40% {\n",
              "      border-color: transparent;\n",
              "      border-right-color: var(--fill-color);\n",
              "      border-top-color: var(--fill-color);\n",
              "    }\n",
              "    60% {\n",
              "      border-color: transparent;\n",
              "      border-right-color: var(--fill-color);\n",
              "    }\n",
              "    80% {\n",
              "      border-color: transparent;\n",
              "      border-right-color: var(--fill-color);\n",
              "      border-bottom-color: var(--fill-color);\n",
              "    }\n",
              "    90% {\n",
              "      border-color: transparent;\n",
              "      border-bottom-color: var(--fill-color);\n",
              "    }\n",
              "  }\n",
              "</style>\n",
              "\n",
              "  <script>\n",
              "    async function quickchart(key) {\n",
              "      const quickchartButtonEl =\n",
              "        document.querySelector('#' + key + ' button');\n",
              "      quickchartButtonEl.disabled = true;  // To prevent multiple clicks.\n",
              "      quickchartButtonEl.classList.add('colab-df-spinner');\n",
              "      try {\n",
              "        const charts = await google.colab.kernel.invokeFunction(\n",
              "            'suggestCharts', [key], {});\n",
              "      } catch (error) {\n",
              "        console.error('Error during call to suggestCharts:', error);\n",
              "      }\n",
              "      quickchartButtonEl.classList.remove('colab-df-spinner');\n",
              "      quickchartButtonEl.classList.add('colab-df-quickchart-complete');\n",
              "    }\n",
              "    (() => {\n",
              "      let quickchartButtonEl =\n",
              "        document.querySelector('#df-dfaacd90-16a2-431a-9959-de41a477dd41 button');\n",
              "      quickchartButtonEl.style.display =\n",
              "        google.colab.kernel.accessAllowed ? 'block' : 'none';\n",
              "    })();\n",
              "  </script>\n",
              "</div>\n",
              "\n",
              "    </div>\n",
              "  </div>\n"
            ]
          },
          "metadata": {},
          "execution_count": 8
        }
      ]
    },
    {
      "cell_type": "code",
      "source": [
        "pd.set_option('display.max_columns', 39)"
      ],
      "metadata": {
        "id": "cNkYTpUiJCht"
      },
      "execution_count": null,
      "outputs": []
    },
    {
      "cell_type": "code",
      "source": [
        "dados_final.head()"
      ],
      "metadata": {
        "colab": {
          "base_uri": "https://localhost:8080/",
          "height": 226
        },
        "id": "JQp0MYh0JWVF",
        "outputId": "3377722d-b78c-4e17-aac1-23fb6e6076a0"
      },
      "execution_count": null,
      "outputs": [
        {
          "output_type": "execute_result",
          "data": {
            "text/plain": [
              "   Conjuge  Dependentes  TelefoneFixo  PagamentoOnline  Churn  Maior65Anos  \\\n",
              "0        1            0             0                1      0            0   \n",
              "1        0            0             1                0      0            0   \n",
              "2        0            0             1                1      1            0   \n",
              "3        0            0             0                0      0            0   \n",
              "4        0            0             1                1      1            0   \n",
              "\n",
              "   MesesDeContrato  ContaMensal  VariasLinhasTelefonicas_Nao  \\\n",
              "0                1        29.85                            0   \n",
              "1               34        56.95                            1   \n",
              "2                2        53.85                            1   \n",
              "3               45        42.30                            0   \n",
              "4                2        70.70                            1   \n",
              "\n",
              "   VariasLinhasTelefonicas_SemServicoTelefonico  VariasLinhasTelefonicas_Sim  \\\n",
              "0                                             1                            0   \n",
              "1                                             0                            0   \n",
              "2                                             0                            0   \n",
              "3                                             1                            0   \n",
              "4                                             0                            0   \n",
              "\n",
              "   ServicoDeInternet_DSL  ServicoDeInternet_FibraOptica  \\\n",
              "0                      1                              0   \n",
              "1                      1                              0   \n",
              "2                      1                              0   \n",
              "3                      1                              0   \n",
              "4                      0                              1   \n",
              "\n",
              "   ServicoDeInternet_Nao  SegurancaOnline_Nao  \\\n",
              "0                      0                    1   \n",
              "1                      0                    0   \n",
              "2                      0                    0   \n",
              "3                      0                    0   \n",
              "4                      0                    1   \n",
              "\n",
              "   SegurancaOnline_SemServicoDeInternet  SegurancaOnline_Sim  \\\n",
              "0                                     0                    0   \n",
              "1                                     0                    1   \n",
              "2                                     0                    1   \n",
              "3                                     0                    1   \n",
              "4                                     0                    0   \n",
              "\n",
              "   BackupOnline_Nao  BackupOnline_SemServicoDeInternet  BackupOnline_Sim  \\\n",
              "0                 0                                  0                 1   \n",
              "1                 1                                  0                 0   \n",
              "2                 0                                  0                 1   \n",
              "3                 1                                  0                 0   \n",
              "4                 1                                  0                 0   \n",
              "\n",
              "   SeguroNoDispositivo_Nao  SeguroNoDispositivo_SemServicoDeInternet  \\\n",
              "0                        1                                         0   \n",
              "1                        0                                         0   \n",
              "2                        1                                         0   \n",
              "3                        0                                         0   \n",
              "4                        1                                         0   \n",
              "\n",
              "   SeguroNoDispositivo_Sim  SuporteTecnico_Nao  \\\n",
              "0                        0                   1   \n",
              "1                        1                   1   \n",
              "2                        0                   1   \n",
              "3                        1                   0   \n",
              "4                        0                   1   \n",
              "\n",
              "   SuporteTecnico_SemServicoDeInternet  SuporteTecnico_Sim  TVaCabo_Nao  \\\n",
              "0                                    0                   0            1   \n",
              "1                                    0                   0            1   \n",
              "2                                    0                   0            1   \n",
              "3                                    0                   1            1   \n",
              "4                                    0                   0            1   \n",
              "\n",
              "   TVaCabo_SemServicoDeInternet  TVaCabo_Sim  StreamingDeFilmes_Nao  \\\n",
              "0                             0            0                      1   \n",
              "1                             0            0                      1   \n",
              "2                             0            0                      1   \n",
              "3                             0            0                      1   \n",
              "4                             0            0                      1   \n",
              "\n",
              "   StreamingDeFilmes_SemServicoDeInternet  StreamingDeFilmes_Sim  \\\n",
              "0                                       0                      0   \n",
              "1                                       0                      0   \n",
              "2                                       0                      0   \n",
              "3                                       0                      0   \n",
              "4                                       0                      0   \n",
              "\n",
              "   TipoDeContrato_DoisAnos  TipoDeContrato_Mensalmente  TipoDeContrato_UmAno  \\\n",
              "0                        0                           1                     0   \n",
              "1                        0                           0                     1   \n",
              "2                        0                           1                     0   \n",
              "3                        0                           0                     1   \n",
              "4                        0                           1                     0   \n",
              "\n",
              "   FormaDePagamento_CartaoDeCredito  FormaDePagamento_ChequeDigital  \\\n",
              "0                                 0                               1   \n",
              "1                                 0                               0   \n",
              "2                                 0                               0   \n",
              "3                                 0                               0   \n",
              "4                                 0                               1   \n",
              "\n",
              "   FormaDePagamento_ChequePapel  FormaDePagamento_DebitoEmConta  \n",
              "0                             0                               0  \n",
              "1                             1                               0  \n",
              "2                             1                               0  \n",
              "3                             0                               1  \n",
              "4                             0                               0  "
            ],
            "text/html": [
              "\n",
              "  <div id=\"df-48624ea5-1a77-48ef-ac98-6f7f812cceb9\" class=\"colab-df-container\">\n",
              "    <div>\n",
              "<style scoped>\n",
              "    .dataframe tbody tr th:only-of-type {\n",
              "        vertical-align: middle;\n",
              "    }\n",
              "\n",
              "    .dataframe tbody tr th {\n",
              "        vertical-align: top;\n",
              "    }\n",
              "\n",
              "    .dataframe thead th {\n",
              "        text-align: right;\n",
              "    }\n",
              "</style>\n",
              "<table border=\"1\" class=\"dataframe\">\n",
              "  <thead>\n",
              "    <tr style=\"text-align: right;\">\n",
              "      <th></th>\n",
              "      <th>Conjuge</th>\n",
              "      <th>Dependentes</th>\n",
              "      <th>TelefoneFixo</th>\n",
              "      <th>PagamentoOnline</th>\n",
              "      <th>Churn</th>\n",
              "      <th>Maior65Anos</th>\n",
              "      <th>MesesDeContrato</th>\n",
              "      <th>ContaMensal</th>\n",
              "      <th>VariasLinhasTelefonicas_Nao</th>\n",
              "      <th>VariasLinhasTelefonicas_SemServicoTelefonico</th>\n",
              "      <th>VariasLinhasTelefonicas_Sim</th>\n",
              "      <th>ServicoDeInternet_DSL</th>\n",
              "      <th>ServicoDeInternet_FibraOptica</th>\n",
              "      <th>ServicoDeInternet_Nao</th>\n",
              "      <th>SegurancaOnline_Nao</th>\n",
              "      <th>SegurancaOnline_SemServicoDeInternet</th>\n",
              "      <th>SegurancaOnline_Sim</th>\n",
              "      <th>BackupOnline_Nao</th>\n",
              "      <th>BackupOnline_SemServicoDeInternet</th>\n",
              "      <th>BackupOnline_Sim</th>\n",
              "      <th>SeguroNoDispositivo_Nao</th>\n",
              "      <th>SeguroNoDispositivo_SemServicoDeInternet</th>\n",
              "      <th>SeguroNoDispositivo_Sim</th>\n",
              "      <th>SuporteTecnico_Nao</th>\n",
              "      <th>SuporteTecnico_SemServicoDeInternet</th>\n",
              "      <th>SuporteTecnico_Sim</th>\n",
              "      <th>TVaCabo_Nao</th>\n",
              "      <th>TVaCabo_SemServicoDeInternet</th>\n",
              "      <th>TVaCabo_Sim</th>\n",
              "      <th>StreamingDeFilmes_Nao</th>\n",
              "      <th>StreamingDeFilmes_SemServicoDeInternet</th>\n",
              "      <th>StreamingDeFilmes_Sim</th>\n",
              "      <th>TipoDeContrato_DoisAnos</th>\n",
              "      <th>TipoDeContrato_Mensalmente</th>\n",
              "      <th>TipoDeContrato_UmAno</th>\n",
              "      <th>FormaDePagamento_CartaoDeCredito</th>\n",
              "      <th>FormaDePagamento_ChequeDigital</th>\n",
              "      <th>FormaDePagamento_ChequePapel</th>\n",
              "      <th>FormaDePagamento_DebitoEmConta</th>\n",
              "    </tr>\n",
              "  </thead>\n",
              "  <tbody>\n",
              "    <tr>\n",
              "      <th>0</th>\n",
              "      <td>1</td>\n",
              "      <td>0</td>\n",
              "      <td>0</td>\n",
              "      <td>1</td>\n",
              "      <td>0</td>\n",
              "      <td>0</td>\n",
              "      <td>1</td>\n",
              "      <td>29.85</td>\n",
              "      <td>0</td>\n",
              "      <td>1</td>\n",
              "      <td>0</td>\n",
              "      <td>1</td>\n",
              "      <td>0</td>\n",
              "      <td>0</td>\n",
              "      <td>1</td>\n",
              "      <td>0</td>\n",
              "      <td>0</td>\n",
              "      <td>0</td>\n",
              "      <td>0</td>\n",
              "      <td>1</td>\n",
              "      <td>1</td>\n",
              "      <td>0</td>\n",
              "      <td>0</td>\n",
              "      <td>1</td>\n",
              "      <td>0</td>\n",
              "      <td>0</td>\n",
              "      <td>1</td>\n",
              "      <td>0</td>\n",
              "      <td>0</td>\n",
              "      <td>1</td>\n",
              "      <td>0</td>\n",
              "      <td>0</td>\n",
              "      <td>0</td>\n",
              "      <td>1</td>\n",
              "      <td>0</td>\n",
              "      <td>0</td>\n",
              "      <td>1</td>\n",
              "      <td>0</td>\n",
              "      <td>0</td>\n",
              "    </tr>\n",
              "    <tr>\n",
              "      <th>1</th>\n",
              "      <td>0</td>\n",
              "      <td>0</td>\n",
              "      <td>1</td>\n",
              "      <td>0</td>\n",
              "      <td>0</td>\n",
              "      <td>0</td>\n",
              "      <td>34</td>\n",
              "      <td>56.95</td>\n",
              "      <td>1</td>\n",
              "      <td>0</td>\n",
              "      <td>0</td>\n",
              "      <td>1</td>\n",
              "      <td>0</td>\n",
              "      <td>0</td>\n",
              "      <td>0</td>\n",
              "      <td>0</td>\n",
              "      <td>1</td>\n",
              "      <td>1</td>\n",
              "      <td>0</td>\n",
              "      <td>0</td>\n",
              "      <td>0</td>\n",
              "      <td>0</td>\n",
              "      <td>1</td>\n",
              "      <td>1</td>\n",
              "      <td>0</td>\n",
              "      <td>0</td>\n",
              "      <td>1</td>\n",
              "      <td>0</td>\n",
              "      <td>0</td>\n",
              "      <td>1</td>\n",
              "      <td>0</td>\n",
              "      <td>0</td>\n",
              "      <td>0</td>\n",
              "      <td>0</td>\n",
              "      <td>1</td>\n",
              "      <td>0</td>\n",
              "      <td>0</td>\n",
              "      <td>1</td>\n",
              "      <td>0</td>\n",
              "    </tr>\n",
              "    <tr>\n",
              "      <th>2</th>\n",
              "      <td>0</td>\n",
              "      <td>0</td>\n",
              "      <td>1</td>\n",
              "      <td>1</td>\n",
              "      <td>1</td>\n",
              "      <td>0</td>\n",
              "      <td>2</td>\n",
              "      <td>53.85</td>\n",
              "      <td>1</td>\n",
              "      <td>0</td>\n",
              "      <td>0</td>\n",
              "      <td>1</td>\n",
              "      <td>0</td>\n",
              "      <td>0</td>\n",
              "      <td>0</td>\n",
              "      <td>0</td>\n",
              "      <td>1</td>\n",
              "      <td>0</td>\n",
              "      <td>0</td>\n",
              "      <td>1</td>\n",
              "      <td>1</td>\n",
              "      <td>0</td>\n",
              "      <td>0</td>\n",
              "      <td>1</td>\n",
              "      <td>0</td>\n",
              "      <td>0</td>\n",
              "      <td>1</td>\n",
              "      <td>0</td>\n",
              "      <td>0</td>\n",
              "      <td>1</td>\n",
              "      <td>0</td>\n",
              "      <td>0</td>\n",
              "      <td>0</td>\n",
              "      <td>1</td>\n",
              "      <td>0</td>\n",
              "      <td>0</td>\n",
              "      <td>0</td>\n",
              "      <td>1</td>\n",
              "      <td>0</td>\n",
              "    </tr>\n",
              "    <tr>\n",
              "      <th>3</th>\n",
              "      <td>0</td>\n",
              "      <td>0</td>\n",
              "      <td>0</td>\n",
              "      <td>0</td>\n",
              "      <td>0</td>\n",
              "      <td>0</td>\n",
              "      <td>45</td>\n",
              "      <td>42.30</td>\n",
              "      <td>0</td>\n",
              "      <td>1</td>\n",
              "      <td>0</td>\n",
              "      <td>1</td>\n",
              "      <td>0</td>\n",
              "      <td>0</td>\n",
              "      <td>0</td>\n",
              "      <td>0</td>\n",
              "      <td>1</td>\n",
              "      <td>1</td>\n",
              "      <td>0</td>\n",
              "      <td>0</td>\n",
              "      <td>0</td>\n",
              "      <td>0</td>\n",
              "      <td>1</td>\n",
              "      <td>0</td>\n",
              "      <td>0</td>\n",
              "      <td>1</td>\n",
              "      <td>1</td>\n",
              "      <td>0</td>\n",
              "      <td>0</td>\n",
              "      <td>1</td>\n",
              "      <td>0</td>\n",
              "      <td>0</td>\n",
              "      <td>0</td>\n",
              "      <td>0</td>\n",
              "      <td>1</td>\n",
              "      <td>0</td>\n",
              "      <td>0</td>\n",
              "      <td>0</td>\n",
              "      <td>1</td>\n",
              "    </tr>\n",
              "    <tr>\n",
              "      <th>4</th>\n",
              "      <td>0</td>\n",
              "      <td>0</td>\n",
              "      <td>1</td>\n",
              "      <td>1</td>\n",
              "      <td>1</td>\n",
              "      <td>0</td>\n",
              "      <td>2</td>\n",
              "      <td>70.70</td>\n",
              "      <td>1</td>\n",
              "      <td>0</td>\n",
              "      <td>0</td>\n",
              "      <td>0</td>\n",
              "      <td>1</td>\n",
              "      <td>0</td>\n",
              "      <td>1</td>\n",
              "      <td>0</td>\n",
              "      <td>0</td>\n",
              "      <td>1</td>\n",
              "      <td>0</td>\n",
              "      <td>0</td>\n",
              "      <td>1</td>\n",
              "      <td>0</td>\n",
              "      <td>0</td>\n",
              "      <td>1</td>\n",
              "      <td>0</td>\n",
              "      <td>0</td>\n",
              "      <td>1</td>\n",
              "      <td>0</td>\n",
              "      <td>0</td>\n",
              "      <td>1</td>\n",
              "      <td>0</td>\n",
              "      <td>0</td>\n",
              "      <td>0</td>\n",
              "      <td>1</td>\n",
              "      <td>0</td>\n",
              "      <td>0</td>\n",
              "      <td>1</td>\n",
              "      <td>0</td>\n",
              "      <td>0</td>\n",
              "    </tr>\n",
              "  </tbody>\n",
              "</table>\n",
              "</div>\n",
              "    <div class=\"colab-df-buttons\">\n",
              "\n",
              "  <div class=\"colab-df-container\">\n",
              "    <button class=\"colab-df-convert\" onclick=\"convertToInteractive('df-48624ea5-1a77-48ef-ac98-6f7f812cceb9')\"\n",
              "            title=\"Convert this dataframe to an interactive table.\"\n",
              "            style=\"display:none;\">\n",
              "\n",
              "  <svg xmlns=\"http://www.w3.org/2000/svg\" height=\"24px\" viewBox=\"0 -960 960 960\">\n",
              "    <path d=\"M120-120v-720h720v720H120Zm60-500h600v-160H180v160Zm220 220h160v-160H400v160Zm0 220h160v-160H400v160ZM180-400h160v-160H180v160Zm440 0h160v-160H620v160ZM180-180h160v-160H180v160Zm440 0h160v-160H620v160Z\"/>\n",
              "  </svg>\n",
              "    </button>\n",
              "\n",
              "  <style>\n",
              "    .colab-df-container {\n",
              "      display:flex;\n",
              "      gap: 12px;\n",
              "    }\n",
              "\n",
              "    .colab-df-convert {\n",
              "      background-color: #E8F0FE;\n",
              "      border: none;\n",
              "      border-radius: 50%;\n",
              "      cursor: pointer;\n",
              "      display: none;\n",
              "      fill: #1967D2;\n",
              "      height: 32px;\n",
              "      padding: 0 0 0 0;\n",
              "      width: 32px;\n",
              "    }\n",
              "\n",
              "    .colab-df-convert:hover {\n",
              "      background-color: #E2EBFA;\n",
              "      box-shadow: 0px 1px 2px rgba(60, 64, 67, 0.3), 0px 1px 3px 1px rgba(60, 64, 67, 0.15);\n",
              "      fill: #174EA6;\n",
              "    }\n",
              "\n",
              "    .colab-df-buttons div {\n",
              "      margin-bottom: 4px;\n",
              "    }\n",
              "\n",
              "    [theme=dark] .colab-df-convert {\n",
              "      background-color: #3B4455;\n",
              "      fill: #D2E3FC;\n",
              "    }\n",
              "\n",
              "    [theme=dark] .colab-df-convert:hover {\n",
              "      background-color: #434B5C;\n",
              "      box-shadow: 0px 1px 3px 1px rgba(0, 0, 0, 0.15);\n",
              "      filter: drop-shadow(0px 1px 2px rgba(0, 0, 0, 0.3));\n",
              "      fill: #FFFFFF;\n",
              "    }\n",
              "  </style>\n",
              "\n",
              "    <script>\n",
              "      const buttonEl =\n",
              "        document.querySelector('#df-48624ea5-1a77-48ef-ac98-6f7f812cceb9 button.colab-df-convert');\n",
              "      buttonEl.style.display =\n",
              "        google.colab.kernel.accessAllowed ? 'block' : 'none';\n",
              "\n",
              "      async function convertToInteractive(key) {\n",
              "        const element = document.querySelector('#df-48624ea5-1a77-48ef-ac98-6f7f812cceb9');\n",
              "        const dataTable =\n",
              "          await google.colab.kernel.invokeFunction('convertToInteractive',\n",
              "                                                    [key], {});\n",
              "        if (!dataTable) return;\n",
              "\n",
              "        const docLinkHtml = 'Like what you see? Visit the ' +\n",
              "          '<a target=\"_blank\" href=https://colab.research.google.com/notebooks/data_table.ipynb>data table notebook</a>'\n",
              "          + ' to learn more about interactive tables.';\n",
              "        element.innerHTML = '';\n",
              "        dataTable['output_type'] = 'display_data';\n",
              "        await google.colab.output.renderOutput(dataTable, element);\n",
              "        const docLink = document.createElement('div');\n",
              "        docLink.innerHTML = docLinkHtml;\n",
              "        element.appendChild(docLink);\n",
              "      }\n",
              "    </script>\n",
              "  </div>\n",
              "\n",
              "\n",
              "<div id=\"df-7eeb12cc-9f47-4d4f-b1ec-b5fa587e0dac\">\n",
              "  <button class=\"colab-df-quickchart\" onclick=\"quickchart('df-7eeb12cc-9f47-4d4f-b1ec-b5fa587e0dac')\"\n",
              "            title=\"Suggest charts\"\n",
              "            style=\"display:none;\">\n",
              "\n",
              "<svg xmlns=\"http://www.w3.org/2000/svg\" height=\"24px\"viewBox=\"0 0 24 24\"\n",
              "     width=\"24px\">\n",
              "    <g>\n",
              "        <path d=\"M19 3H5c-1.1 0-2 .9-2 2v14c0 1.1.9 2 2 2h14c1.1 0 2-.9 2-2V5c0-1.1-.9-2-2-2zM9 17H7v-7h2v7zm4 0h-2V7h2v10zm4 0h-2v-4h2v4z\"/>\n",
              "    </g>\n",
              "</svg>\n",
              "  </button>\n",
              "\n",
              "<style>\n",
              "  .colab-df-quickchart {\n",
              "      --bg-color: #E8F0FE;\n",
              "      --fill-color: #1967D2;\n",
              "      --hover-bg-color: #E2EBFA;\n",
              "      --hover-fill-color: #174EA6;\n",
              "      --disabled-fill-color: #AAA;\n",
              "      --disabled-bg-color: #DDD;\n",
              "  }\n",
              "\n",
              "  [theme=dark] .colab-df-quickchart {\n",
              "      --bg-color: #3B4455;\n",
              "      --fill-color: #D2E3FC;\n",
              "      --hover-bg-color: #434B5C;\n",
              "      --hover-fill-color: #FFFFFF;\n",
              "      --disabled-bg-color: #3B4455;\n",
              "      --disabled-fill-color: #666;\n",
              "  }\n",
              "\n",
              "  .colab-df-quickchart {\n",
              "    background-color: var(--bg-color);\n",
              "    border: none;\n",
              "    border-radius: 50%;\n",
              "    cursor: pointer;\n",
              "    display: none;\n",
              "    fill: var(--fill-color);\n",
              "    height: 32px;\n",
              "    padding: 0;\n",
              "    width: 32px;\n",
              "  }\n",
              "\n",
              "  .colab-df-quickchart:hover {\n",
              "    background-color: var(--hover-bg-color);\n",
              "    box-shadow: 0 1px 2px rgba(60, 64, 67, 0.3), 0 1px 3px 1px rgba(60, 64, 67, 0.15);\n",
              "    fill: var(--button-hover-fill-color);\n",
              "  }\n",
              "\n",
              "  .colab-df-quickchart-complete:disabled,\n",
              "  .colab-df-quickchart-complete:disabled:hover {\n",
              "    background-color: var(--disabled-bg-color);\n",
              "    fill: var(--disabled-fill-color);\n",
              "    box-shadow: none;\n",
              "  }\n",
              "\n",
              "  .colab-df-spinner {\n",
              "    border: 2px solid var(--fill-color);\n",
              "    border-color: transparent;\n",
              "    border-bottom-color: var(--fill-color);\n",
              "    animation:\n",
              "      spin 1s steps(1) infinite;\n",
              "  }\n",
              "\n",
              "  @keyframes spin {\n",
              "    0% {\n",
              "      border-color: transparent;\n",
              "      border-bottom-color: var(--fill-color);\n",
              "      border-left-color: var(--fill-color);\n",
              "    }\n",
              "    20% {\n",
              "      border-color: transparent;\n",
              "      border-left-color: var(--fill-color);\n",
              "      border-top-color: var(--fill-color);\n",
              "    }\n",
              "    30% {\n",
              "      border-color: transparent;\n",
              "      border-left-color: var(--fill-color);\n",
              "      border-top-color: var(--fill-color);\n",
              "      border-right-color: var(--fill-color);\n",
              "    }\n",
              "    40% {\n",
              "      border-color: transparent;\n",
              "      border-right-color: var(--fill-color);\n",
              "      border-top-color: var(--fill-color);\n",
              "    }\n",
              "    60% {\n",
              "      border-color: transparent;\n",
              "      border-right-color: var(--fill-color);\n",
              "    }\n",
              "    80% {\n",
              "      border-color: transparent;\n",
              "      border-right-color: var(--fill-color);\n",
              "      border-bottom-color: var(--fill-color);\n",
              "    }\n",
              "    90% {\n",
              "      border-color: transparent;\n",
              "      border-bottom-color: var(--fill-color);\n",
              "    }\n",
              "  }\n",
              "</style>\n",
              "\n",
              "  <script>\n",
              "    async function quickchart(key) {\n",
              "      const quickchartButtonEl =\n",
              "        document.querySelector('#' + key + ' button');\n",
              "      quickchartButtonEl.disabled = true;  // To prevent multiple clicks.\n",
              "      quickchartButtonEl.classList.add('colab-df-spinner');\n",
              "      try {\n",
              "        const charts = await google.colab.kernel.invokeFunction(\n",
              "            'suggestCharts', [key], {});\n",
              "      } catch (error) {\n",
              "        console.error('Error during call to suggestCharts:', error);\n",
              "      }\n",
              "      quickchartButtonEl.classList.remove('colab-df-spinner');\n",
              "      quickchartButtonEl.classList.add('colab-df-quickchart-complete');\n",
              "    }\n",
              "    (() => {\n",
              "      let quickchartButtonEl =\n",
              "        document.querySelector('#df-7eeb12cc-9f47-4d4f-b1ec-b5fa587e0dac button');\n",
              "      quickchartButtonEl.style.display =\n",
              "        google.colab.kernel.accessAllowed ? 'block' : 'none';\n",
              "    })();\n",
              "  </script>\n",
              "</div>\n",
              "\n",
              "    </div>\n",
              "  </div>\n"
            ]
          },
          "metadata": {},
          "execution_count": 10
        }
      ]
    },
    {
      "cell_type": "code",
      "source": [
        "Xmaria = [[0,0,1,1,0,0,39.90,1,0,0,0,1,0,1,0,0,0,0,1,1,1,0,0,1,0,1,0,0,0,0,1,0,0,1,0,0,0,1]]"
      ],
      "metadata": {
        "id": "tfMj6AjYSZHm"
      },
      "execution_count": null,
      "outputs": []
    },
    {
      "cell_type": "code",
      "source": [
        "import seaborn as sns\n",
        "%matplotlib inline\n",
        "\n",
        "ax = sns.countplot(x='Churn', data=dados_final)"
      ],
      "metadata": {
        "colab": {
          "base_uri": "https://localhost:8080/",
          "height": 449
        },
        "id": "l4X7kKc3Nhz8",
        "outputId": "d284bc8e-48b0-4ea7-8d84-d3f6fba3c2a9"
      },
      "execution_count": null,
      "outputs": [
        {
          "output_type": "display_data",
          "data": {
            "text/plain": [
              "<Figure size 640x480 with 1 Axes>"
            ],
            "image/png": "[encoded data removed]"
          },
          "metadata": {}
        }
      ]
    },
    {
      "cell_type": "code",
      "source": [
        "dados_final.Churn.value_counts()"
      ],
      "metadata": {
        "colab": {
          "base_uri": "https://localhost:8080/"
        },
        "id": "EUzH1GXiY2A1",
        "outputId": "92fb6f4d-240b-4c5d-de5b-8f2872401d7b"
      },
      "execution_count": null,
      "outputs": [
        {
          "output_type": "execute_result",
          "data": {
            "text/plain": [
              "0    5174\n",
              "1    1869\n",
              "Name: Churn, dtype: int64"
            ]
          },
          "metadata": {},
          "execution_count": 13
        }
      ]
    },
    {
      "cell_type": "code",
      "source": [
        "#biblioteca para balancear os dados utilizando over_sampling\n",
        "from imblearn.over_sampling import SMOTE"
      ],
      "metadata": {
        "id": "FiaSiVG_Y4wg"
      },
      "execution_count": null,
      "outputs": []
    },
    {
      "cell_type": "markdown",
      "source": [
        "# **Balancenado os dados desbalanceados **"
      ],
      "metadata": {
        "id": "Its_z4IpTM2X"
      }
    },
    {
      "cell_type": "code",
      "source": [
        "x = dados_final.drop('Churn', axis = 1)\n",
        "y = dados_final['Churn']"
      ],
      "metadata": {
        "id": "W6NrhdpXOMPz"
      },
      "execution_count": null,
      "outputs": []
    },
    {
      "cell_type": "code",
      "source": [
        "smt = SMOTE(random_state=123)\n",
        "x, y = smt.fit_resample(x, y)"
      ],
      "metadata": {
        "id": "WWJNlkViY-E6"
      },
      "execution_count": null,
      "outputs": []
    },
    {
      "cell_type": "code",
      "source": [
        "#junção dos dados balanceados\n",
        "dados_final = pd.concat([x, y], axis=1)"
      ],
      "metadata": {
        "id": "HS5h8RM4ZD2F"
      },
      "execution_count": null,
      "outputs": []
    },
    {
      "cell_type": "code",
      "source": [
        "#verificação 1 - junção dos dados\n",
        "dados_final.head(2)"
      ],
      "metadata": {
        "colab": {
          "base_uri": "https://localhost:8080/",
          "height": 132
        },
        "id": "Mgjl8bRaZ_1t",
        "outputId": "81b69a27-5b9b-442c-ba76-1ff536f028ce"
      },
      "execution_count": null,
      "outputs": [
        {
          "output_type": "execute_result",
          "data": {
            "text/plain": [
              "   Conjuge  Dependentes  TelefoneFixo  PagamentoOnline  Maior65Anos  \\\n",
              "0        1            0             0                1            0   \n",
              "1        0            0             1                0            0   \n",
              "\n",
              "   MesesDeContrato  ContaMensal  VariasLinhasTelefonicas_Nao  \\\n",
              "0                1        29.85                            0   \n",
              "1               34        56.95                            1   \n",
              "\n",
              "   VariasLinhasTelefonicas_SemServicoTelefonico  VariasLinhasTelefonicas_Sim  \\\n",
              "0                                             1                            0   \n",
              "1                                             0                            0   \n",
              "\n",
              "   ServicoDeInternet_DSL  ServicoDeInternet_FibraOptica  \\\n",
              "0                      1                              0   \n",
              "1                      1                              0   \n",
              "\n",
              "   ServicoDeInternet_Nao  SegurancaOnline_Nao  \\\n",
              "0                      0                    1   \n",
              "1                      0                    0   \n",
              "\n",
              "   SegurancaOnline_SemServicoDeInternet  SegurancaOnline_Sim  \\\n",
              "0                                     0                    0   \n",
              "1                                     0                    1   \n",
              "\n",
              "   BackupOnline_Nao  BackupOnline_SemServicoDeInternet  BackupOnline_Sim  \\\n",
              "0                 0                                  0                 1   \n",
              "1                 1                                  0                 0   \n",
              "\n",
              "   SeguroNoDispositivo_Nao  SeguroNoDispositivo_SemServicoDeInternet  \\\n",
              "0                        1                                         0   \n",
              "1                        0                                         0   \n",
              "\n",
              "   SeguroNoDispositivo_Sim  SuporteTecnico_Nao  \\\n",
              "0                        0                   1   \n",
              "1                        1                   1   \n",
              "\n",
              "   SuporteTecnico_SemServicoDeInternet  SuporteTecnico_Sim  TVaCabo_Nao  \\\n",
              "0                                    0                   0            1   \n",
              "1                                    0                   0            1   \n",
              "\n",
              "   TVaCabo_SemServicoDeInternet  TVaCabo_Sim  StreamingDeFilmes_Nao  \\\n",
              "0                             0            0                      1   \n",
              "1                             0            0                      1   \n",
              "\n",
              "   StreamingDeFilmes_SemServicoDeInternet  StreamingDeFilmes_Sim  \\\n",
              "0                                       0                      0   \n",
              "1                                       0                      0   \n",
              "\n",
              "   TipoDeContrato_DoisAnos  TipoDeContrato_Mensalmente  TipoDeContrato_UmAno  \\\n",
              "0                        0                           1                     0   \n",
              "1                        0                           0                     1   \n",
              "\n",
              "   FormaDePagamento_CartaoDeCredito  FormaDePagamento_ChequeDigital  \\\n",
              "0                                 0                               1   \n",
              "1                                 0                               0   \n",
              "\n",
              "   FormaDePagamento_ChequePapel  FormaDePagamento_DebitoEmConta  Churn  \n",
              "0                             0                               0      0  \n",
              "1                             1                               0      0  "
            ],
            "text/html": [
              "\n",
              "  <div id=\"df-37357330-5d75-483d-b535-31a8f39d5c72\" class=\"colab-df-container\">\n",
              "    <div>\n",
              "<style scoped>\n",
              "    .dataframe tbody tr th:only-of-type {\n",
              "        vertical-align: middle;\n",
              "    }\n",
              "\n",
              "    .dataframe tbody tr th {\n",
              "        vertical-align: top;\n",
              "    }\n",
              "\n",
              "    .dataframe thead th {\n",
              "        text-align: right;\n",
              "    }\n",
              "</style>\n",
              "<table border=\"1\" class=\"dataframe\">\n",
              "  <thead>\n",
              "    <tr style=\"text-align: right;\">\n",
              "      <th></th>\n",
              "      <th>Conjuge</th>\n",
              "      <th>Dependentes</th>\n",
              "      <th>TelefoneFixo</th>\n",
              "      <th>PagamentoOnline</th>\n",
              "      <th>Maior65Anos</th>\n",
              "      <th>MesesDeContrato</th>\n",
              "      <th>ContaMensal</th>\n",
              "      <th>VariasLinhasTelefonicas_Nao</th>\n",
              "      <th>VariasLinhasTelefonicas_SemServicoTelefonico</th>\n",
              "      <th>VariasLinhasTelefonicas_Sim</th>\n",
              "      <th>ServicoDeInternet_DSL</th>\n",
              "      <th>ServicoDeInternet_FibraOptica</th>\n",
              "      <th>ServicoDeInternet_Nao</th>\n",
              "      <th>SegurancaOnline_Nao</th>\n",
              "      <th>SegurancaOnline_SemServicoDeInternet</th>\n",
              "      <th>SegurancaOnline_Sim</th>\n",
              "      <th>BackupOnline_Nao</th>\n",
              "      <th>BackupOnline_SemServicoDeInternet</th>\n",
              "      <th>BackupOnline_Sim</th>\n",
              "      <th>SeguroNoDispositivo_Nao</th>\n",
              "      <th>SeguroNoDispositivo_SemServicoDeInternet</th>\n",
              "      <th>SeguroNoDispositivo_Sim</th>\n",
              "      <th>SuporteTecnico_Nao</th>\n",
              "      <th>SuporteTecnico_SemServicoDeInternet</th>\n",
              "      <th>SuporteTecnico_Sim</th>\n",
              "      <th>TVaCabo_Nao</th>\n",
              "      <th>TVaCabo_SemServicoDeInternet</th>\n",
              "      <th>TVaCabo_Sim</th>\n",
              "      <th>StreamingDeFilmes_Nao</th>\n",
              "      <th>StreamingDeFilmes_SemServicoDeInternet</th>\n",
              "      <th>StreamingDeFilmes_Sim</th>\n",
              "      <th>TipoDeContrato_DoisAnos</th>\n",
              "      <th>TipoDeContrato_Mensalmente</th>\n",
              "      <th>TipoDeContrato_UmAno</th>\n",
              "      <th>FormaDePagamento_CartaoDeCredito</th>\n",
              "      <th>FormaDePagamento_ChequeDigital</th>\n",
              "      <th>FormaDePagamento_ChequePapel</th>\n",
              "      <th>FormaDePagamento_DebitoEmConta</th>\n",
              "      <th>Churn</th>\n",
              "    </tr>\n",
              "  </thead>\n",
              "  <tbody>\n",
              "    <tr>\n",
              "      <th>0</th>\n",
              "      <td>1</td>\n",
              "      <td>0</td>\n",
              "      <td>0</td>\n",
              "      <td>1</td>\n",
              "      <td>0</td>\n",
              "      <td>1</td>\n",
              "      <td>29.85</td>\n",
              "      <td>0</td>\n",
              "      <td>1</td>\n",
              "      <td>0</td>\n",
              "      <td>1</td>\n",
              "      <td>0</td>\n",
              "      <td>0</td>\n",
              "      <td>1</td>\n",
              "      <td>0</td>\n",
              "      <td>0</td>\n",
              "      <td>0</td>\n",
              "      <td>0</td>\n",
              "      <td>1</td>\n",
              "      <td>1</td>\n",
              "      <td>0</td>\n",
              "      <td>0</td>\n",
              "      <td>1</td>\n",
              "      <td>0</td>\n",
              "      <td>0</td>\n",
              "      <td>1</td>\n",
              "      <td>0</td>\n",
              "      <td>0</td>\n",
              "      <td>1</td>\n",
              "      <td>0</td>\n",
              "      <td>0</td>\n",
              "      <td>0</td>\n",
              "      <td>1</td>\n",
              "      <td>0</td>\n",
              "      <td>0</td>\n",
              "      <td>1</td>\n",
              "      <td>0</td>\n",
              "      <td>0</td>\n",
              "      <td>0</td>\n",
              "    </tr>\n",
              "    <tr>\n",
              "      <th>1</th>\n",
              "      <td>0</td>\n",
              "      <td>0</td>\n",
              "      <td>1</td>\n",
              "      <td>0</td>\n",
              "      <td>0</td>\n",
              "      <td>34</td>\n",
              "      <td>56.95</td>\n",
              "      <td>1</td>\n",
              "      <td>0</td>\n",
              "      <td>0</td>\n",
              "      <td>1</td>\n",
              "      <td>0</td>\n",
              "      <td>0</td>\n",
              "      <td>0</td>\n",
              "      <td>0</td>\n",
              "      <td>1</td>\n",
              "      <td>1</td>\n",
              "      <td>0</td>\n",
              "      <td>0</td>\n",
              "      <td>0</td>\n",
              "      <td>0</td>\n",
              "      <td>1</td>\n",
              "      <td>1</td>\n",
              "      <td>0</td>\n",
              "      <td>0</td>\n",
              "      <td>1</td>\n",
              "      <td>0</td>\n",
              "      <td>0</td>\n",
              "      <td>1</td>\n",
              "      <td>0</td>\n",
              "      <td>0</td>\n",
              "      <td>0</td>\n",
              "      <td>0</td>\n",
              "      <td>1</td>\n",
              "      <td>0</td>\n",
              "      <td>0</td>\n",
              "      <td>1</td>\n",
              "      <td>0</td>\n",
              "      <td>0</td>\n",
              "    </tr>\n",
              "  </tbody>\n",
              "</table>\n",
              "</div>\n",
              "    <div class=\"colab-df-buttons\">\n",
              "\n",
              "  <div class=\"colab-df-container\">\n",
              "    <button class=\"colab-df-convert\" onclick=\"convertToInteractive('df-37357330-5d75-483d-b535-31a8f39d5c72')\"\n",
              "            title=\"Convert this dataframe to an interactive table.\"\n",
              "            style=\"display:none;\">\n",
              "\n",
              "  <svg xmlns=\"http://www.w3.org/2000/svg\" height=\"24px\" viewBox=\"0 -960 960 960\">\n",
              "    <path d=\"M120-120v-720h720v720H120Zm60-500h600v-160H180v160Zm220 220h160v-160H400v160Zm0 220h160v-160H400v160ZM180-400h160v-160H180v160Zm440 0h160v-160H620v160ZM180-180h160v-160H180v160Zm440 0h160v-160H620v160Z\"/>\n",
              "  </svg>\n",
              "    </button>\n",
              "\n",
              "  <style>\n",
              "    .colab-df-container {\n",
              "      display:flex;\n",
              "      gap: 12px;\n",
              "    }\n",
              "\n",
              "    .colab-df-convert {\n",
              "      background-color: #E8F0FE;\n",
              "      border: none;\n",
              "      border-radius: 50%;\n",
              "      cursor: pointer;\n",
              "      display: none;\n",
              "      fill: #1967D2;\n",
              "      height: 32px;\n",
              "      padding: 0 0 0 0;\n",
              "      width: 32px;\n",
              "    }\n",
              "\n",
              "    .colab-df-convert:hover {\n",
              "      background-color: #E2EBFA;\n",
              "      box-shadow: 0px 1px 2px rgba(60, 64, 67, 0.3), 0px 1px 3px 1px rgba(60, 64, 67, 0.15);\n",
              "      fill: #174EA6;\n",
              "    }\n",
              "\n",
              "    .colab-df-buttons div {\n",
              "      margin-bottom: 4px;\n",
              "    }\n",
              "\n",
              "    [theme=dark] .colab-df-convert {\n",
              "      background-color: #3B4455;\n",
              "      fill: #D2E3FC;\n",
              "    }\n",
              "\n",
              "    [theme=dark] .colab-df-convert:hover {\n",
              "      background-color: #434B5C;\n",
              "      box-shadow: 0px 1px 3px 1px rgba(0, 0, 0, 0.15);\n",
              "      filter: drop-shadow(0px 1px 2px rgba(0, 0, 0, 0.3));\n",
              "      fill: #FFFFFF;\n",
              "    }\n",
              "  </style>\n",
              "\n",
              "    <script>\n",
              "      const buttonEl =\n",
              "        document.querySelector('#df-37357330-5d75-483d-b535-31a8f39d5c72 button.colab-df-convert');\n",
              "      buttonEl.style.display =\n",
              "        google.colab.kernel.accessAllowed ? 'block' : 'none';\n",
              "\n",
              "      async function convertToInteractive(key) {\n",
              "        const element = document.querySelector('#df-37357330-5d75-483d-b535-31a8f39d5c72');\n",
              "        const dataTable =\n",
              "          await google.colab.kernel.invokeFunction('convertToInteractive',\n",
              "                                                    [key], {});\n",
              "        if (!dataTable) return;\n",
              "\n",
              "        const docLinkHtml = 'Like what you see? Visit the ' +\n",
              "          '<a target=\"_blank\" href=https://colab.research.google.com/notebooks/data_table.ipynb>data table notebook</a>'\n",
              "          + ' to learn more about interactive tables.';\n",
              "        element.innerHTML = '';\n",
              "        dataTable['output_type'] = 'display_data';\n",
              "        await google.colab.output.renderOutput(dataTable, element);\n",
              "        const docLink = document.createElement('div');\n",
              "        docLink.innerHTML = docLinkHtml;\n",
              "        element.appendChild(docLink);\n",
              "      }\n",
              "    </script>\n",
              "  </div>\n",
              "\n",
              "\n",
              "<div id=\"df-98ea2f74-cbd2-40ca-9c8f-d6a1eb0585f6\">\n",
              "  <button class=\"colab-df-quickchart\" onclick=\"quickchart('df-98ea2f74-cbd2-40ca-9c8f-d6a1eb0585f6')\"\n",
              "            title=\"Suggest charts\"\n",
              "            style=\"display:none;\">\n",
              "\n",
              "<svg xmlns=\"http://www.w3.org/2000/svg\" height=\"24px\"viewBox=\"0 0 24 24\"\n",
              "     width=\"24px\">\n",
              "    <g>\n",
              "        <path d=\"M19 3H5c-1.1 0-2 .9-2 2v14c0 1.1.9 2 2 2h14c1.1 0 2-.9 2-2V5c0-1.1-.9-2-2-2zM9 17H7v-7h2v7zm4 0h-2V7h2v10zm4 0h-2v-4h2v4z\"/>\n",
              "    </g>\n",
              "</svg>\n",
              "  </button>\n",
              "\n",
              "<style>\n",
              "  .colab-df-quickchart {\n",
              "      --bg-color: #E8F0FE;\n",
              "      --fill-color: #1967D2;\n",
              "      --hover-bg-color: #E2EBFA;\n",
              "      --hover-fill-color: #174EA6;\n",
              "      --disabled-fill-color: #AAA;\n",
              "      --disabled-bg-color: #DDD;\n",
              "  }\n",
              "\n",
              "  [theme=dark] .colab-df-quickchart {\n",
              "      --bg-color: #3B4455;\n",
              "      --fill-color: #D2E3FC;\n",
              "      --hover-bg-color: #434B5C;\n",
              "      --hover-fill-color: #FFFFFF;\n",
              "      --disabled-bg-color: #3B4455;\n",
              "      --disabled-fill-color: #666;\n",
              "  }\n",
              "\n",
              "  .colab-df-quickchart {\n",
              "    background-color: var(--bg-color);\n",
              "    border: none;\n",
              "    border-radius: 50%;\n",
              "    cursor: pointer;\n",
              "    display: none;\n",
              "    fill: var(--fill-color);\n",
              "    height: 32px;\n",
              "    padding: 0;\n",
              "    width: 32px;\n",
              "  }\n",
              "\n",
              "  .colab-df-quickchart:hover {\n",
              "    background-color: var(--hover-bg-color);\n",
              "    box-shadow: 0 1px 2px rgba(60, 64, 67, 0.3), 0 1px 3px 1px rgba(60, 64, 67, 0.15);\n",
              "    fill: var(--button-hover-fill-color);\n",
              "  }\n",
              "\n",
              "  .colab-df-quickchart-complete:disabled,\n",
              "  .colab-df-quickchart-complete:disabled:hover {\n",
              "    background-color: var(--disabled-bg-color);\n",
              "    fill: var(--disabled-fill-color);\n",
              "    box-shadow: none;\n",
              "  }\n",
              "\n",
              "  .colab-df-spinner {\n",
              "    border: 2px solid var(--fill-color);\n",
              "    border-color: transparent;\n",
              "    border-bottom-color: var(--fill-color);\n",
              "    animation:\n",
              "      spin 1s steps(1) infinite;\n",
              "  }\n",
              "\n",
              "  @keyframes spin {\n",
              "    0% {\n",
              "      border-color: transparent;\n",
              "      border-bottom-color: var(--fill-color);\n",
              "      border-left-color: var(--fill-color);\n",
              "    }\n",
              "    20% {\n",
              "      border-color: transparent;\n",
              "      border-left-color: var(--fill-color);\n",
              "      border-top-color: var(--fill-color);\n",
              "    }\n",
              "    30% {\n",
              "      border-color: transparent;\n",
              "      border-left-color: var(--fill-color);\n",
              "      border-top-color: var(--fill-color);\n",
              "      border-right-color: var(--fill-color);\n",
              "    }\n",
              "    40% {\n",
              "      border-color: transparent;\n",
              "      border-right-color: var(--fill-color);\n",
              "      border-top-color: var(--fill-color);\n",
              "    }\n",
              "    60% {\n",
              "      border-color: transparent;\n",
              "      border-right-color: var(--fill-color);\n",
              "    }\n",
              "    80% {\n",
              "      border-color: transparent;\n",
              "      border-right-color: var(--fill-color);\n",
              "      border-bottom-color: var(--fill-color);\n",
              "    }\n",
              "    90% {\n",
              "      border-color: transparent;\n",
              "      border-bottom-color: var(--fill-color);\n",
              "    }\n",
              "  }\n",
              "</style>\n",
              "\n",
              "  <script>\n",
              "    async function quickchart(key) {\n",
              "      const quickchartButtonEl =\n",
              "        document.querySelector('#' + key + ' button');\n",
              "      quickchartButtonEl.disabled = true;  // To prevent multiple clicks.\n",
              "      quickchartButtonEl.classList.add('colab-df-spinner');\n",
              "      try {\n",
              "        const charts = await google.colab.kernel.invokeFunction(\n",
              "            'suggestCharts', [key], {});\n",
              "      } catch (error) {\n",
              "        console.error('Error during call to suggestCharts:', error);\n",
              "      }\n",
              "      quickchartButtonEl.classList.remove('colab-df-spinner');\n",
              "      quickchartButtonEl.classList.add('colab-df-quickchart-complete');\n",
              "    }\n",
              "    (() => {\n",
              "      let quickchartButtonEl =\n",
              "        document.querySelector('#df-98ea2f74-cbd2-40ca-9c8f-d6a1eb0585f6 button');\n",
              "      quickchartButtonEl.style.display =\n",
              "        google.colab.kernel.accessAllowed ? 'block' : 'none';\n",
              "    })();\n",
              "  </script>\n",
              "</div>\n",
              "\n",
              "    </div>\n",
              "  </div>\n"
            ]
          },
          "metadata": {},
          "execution_count": 18
        }
      ]
    },
    {
      "cell_type": "code",
      "source": [
        "dados_final.Churn.value_counts()"
      ],
      "metadata": {
        "colab": {
          "base_uri": "https://localhost:8080/"
        },
        "id": "KZ-BUp2GaDgw",
        "outputId": "7ddeb9e1-de80-4900-f52e-3510dbe1d89c"
      },
      "execution_count": null,
      "outputs": [
        {
          "output_type": "execute_result",
          "data": {
            "text/plain": [
              "0    5174\n",
              "1    5174\n",
              "Name: Churn, dtype: int64"
            ]
          },
          "metadata": {},
          "execution_count": 19
        }
      ]
    },
    {
      "cell_type": "code",
      "source": [
        "Xmaria"
      ],
      "metadata": {
        "colab": {
          "base_uri": "https://localhost:8080/"
        },
        "id": "pzjGBCjnaHla",
        "outputId": "14d80256-9c10-4abf-a494-5c0ed947f780"
      },
      "execution_count": null,
      "outputs": [
        {
          "output_type": "execute_result",
          "data": {
            "text/plain": [
              "[[0,\n",
              "  0,\n",
              "  1,\n",
              "  1,\n",
              "  0,\n",
              "  0,\n",
              "  39.9,\n",
              "  1,\n",
              "  0,\n",
              "  0,\n",
              "  0,\n",
              "  1,\n",
              "  0,\n",
              "  1,\n",
              "  0,\n",
              "  0,\n",
              "  0,\n",
              "  0,\n",
              "  1,\n",
              "  1,\n",
              "  1,\n",
              "  0,\n",
              "  0,\n",
              "  1,\n",
              "  0,\n",
              "  1,\n",
              "  0,\n",
              "  0,\n",
              "  0,\n",
              "  0,\n",
              "  1,\n",
              "  0,\n",
              "  0,\n",
              "  1,\n",
              "  0,\n",
              "  0,\n",
              "  0,\n",
              "  1]]"
            ]
          },
          "metadata": {},
          "execution_count": 20
        }
      ]
    },
    {
      "cell_type": "code",
      "source": [
        "!pip install -U imbalanced-learn"
      ],
      "metadata": {
        "colab": {
          "base_uri": "https://localhost:8080/"
        },
        "id": "X60Ezhp0NjfI",
        "outputId": "0f3c2357-767d-40bb-a8ae-76277e1a0230"
      },
      "execution_count": null,
      "outputs": [
        {
          "output_type": "stream",
          "name": "stdout",
          "text": [
            "Requirement already satisfied: imbalanced-learn in /usr/local/lib/python3.10/dist-packages (0.11.0)\n",
            "Requirement already satisfied: numpy>=1.17.3 in /usr/local/lib/python3.10/dist-packages (from imbalanced-learn) (1.23.5)\n",
            "Requirement already satisfied: scipy>=1.5.0 in /usr/local/lib/python3.10/dist-packages (from imbalanced-learn) (1.11.4)\n",
            "Requirement already satisfied: scikit-learn>=1.0.2 in /usr/local/lib/python3.10/dist-packages (from imbalanced-learn) (1.2.2)\n",
            "Requirement already satisfied: joblib>=1.1.1 in /usr/local/lib/python3.10/dist-packages (from imbalanced-learn) (1.3.2)\n",
            "Requirement already satisfied: threadpoolctl>=2.0.0 in /usr/local/lib/python3.10/dist-packages (from imbalanced-learn) (3.2.0)\n"
          ]
        }
      ]
    },
    {
      "cell_type": "code",
      "source": [
        "from sklearn.preprocessing import StandardScaler"
      ],
      "metadata": {
        "id": "IN4stK-rTXjJ"
      },
      "execution_count": null,
      "outputs": []
    },
    {
      "cell_type": "code",
      "source": [
        "norm = StandardScaler()"
      ],
      "metadata": {
        "id": "8uoXWIq6w1Ww"
      },
      "execution_count": null,
      "outputs": []
    },
    {
      "cell_type": "code",
      "source": [
        "x_normalizado = norm.fit_transform(x)\n",
        "x_normalizado"
      ],
      "metadata": {
        "colab": {
          "base_uri": "https://localhost:8080/"
        },
        "id": "3YawOR9D2gJl",
        "outputId": "57cddac9-05e3-423c-c51a-4121752772c9"
      },
      "execution_count": null,
      "outputs": [
        {
          "output_type": "execute_result",
          "data": {
            "text/plain": [
              "array([[ 1.26542767, -0.52771004, -3.06083934, ...,  1.30373042,\n",
              "        -0.47912706, -0.4360152 ],\n",
              "       [-0.79024667, -0.52771004,  0.32670777, ..., -0.76702973,\n",
              "         2.08712905, -0.4360152 ],\n",
              "       [-0.79024667, -0.52771004,  0.32670777, ..., -0.76702973,\n",
              "         2.08712905, -0.4360152 ],\n",
              "       ...,\n",
              "       [-0.79024667, -0.52771004,  0.32670777, ...,  1.30373042,\n",
              "        -0.47912706, -0.4360152 ],\n",
              "       [-0.79024667, -0.52771004,  0.32670777, ..., -0.76702973,\n",
              "        -0.47912706, -0.4360152 ],\n",
              "       [-0.79024667, -0.52771004,  0.32670777, ..., -0.76702973,\n",
              "        -0.47912706, -0.4360152 ]])"
            ]
          },
          "metadata": {},
          "execution_count": 24
        }
      ]
    },
    {
      "cell_type": "code",
      "source": [
        "xmaria_normalizado = norm.transform(pd.DataFrame(Xmaria, columns = x.columns))\n",
        "xmaria_normalizado"
      ],
      "metadata": {
        "colab": {
          "base_uri": "https://localhost:8080/"
        },
        "id": "h5puotNu9t3o",
        "outputId": "cb27747c-7252-450f-c9ab-e1bd6cffb06f"
      },
      "execution_count": null,
      "outputs": [
        {
          "output_type": "execute_result",
          "data": {
            "text/plain": [
              "array([[-0.79024667, -0.52771004,  0.32670777,  0.81482091, -0.41318358,\n",
              "        -1.14938255, -0.97236043,  1.13061554, -0.31386908, -0.83366906,\n",
              "        -0.66107688,  0.95797538, -0.44617598,  0.86827317, -0.44617598,\n",
              "        -0.51721942, -0.95834643, -0.44617598,  1.57389661,  1.04285807,\n",
              "         2.24126814, -0.64211419, -1.13662476,  2.24126814, -0.52426638,\n",
              "         1.18690873, -0.44617598, -0.77707385, -0.83117367, -0.44617598,\n",
              "         1.26620316, -0.44648735, -1.35522058,  2.38155929, -0.42576817,\n",
              "        -0.76702973, -0.47912706,  2.293498  ]])"
            ]
          },
          "metadata": {},
          "execution_count": 25
        }
      ]
    },
    {
      "cell_type": "markdown",
      "source": [
        "Distância Euclidiana:\n",
        "\n",
        "![desitancia_euclidiana.png](data:image/png;base64,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)"
      ],
      "metadata": {
        "id": "aVk8zCOAeomR"
      }
    },
    {
      "cell_type": "code",
      "source": [
        "import numpy as np"
      ],
      "metadata": {
        "id": "l4_9Yd0Xadky"
      },
      "execution_count": null,
      "outputs": []
    },
    {
      "cell_type": "code",
      "source": [
        "a = xmaria_normalizado\n",
        "b = x_normalizado[0]"
      ],
      "metadata": {
        "id": "gYrlAOZObvWM"
      },
      "execution_count": null,
      "outputs": []
    },
    {
      "cell_type": "code",
      "source": [
        "a - b"
      ],
      "metadata": {
        "colab": {
          "base_uri": "https://localhost:8080/"
        },
        "id": "Ad5fGDx3dHCH",
        "outputId": "af3fd802-15bf-45ee-9d25-00c24065872f"
      },
      "execution_count": null,
      "outputs": [
        {
          "output_type": "execute_result",
          "data": {
            "text/plain": [
              "array([[-2.05567434,  0.        ,  3.38754711,  0.        ,  0.        ,\n",
              "        -0.0416644 ,  0.34941017,  2.0150895 , -3.49991084,  0.        ,\n",
              "        -2.17376025,  2.00184354,  0.        ,  0.        ,  0.        ,\n",
              "         0.        ,  0.        ,  0.        ,  0.        ,  0.        ,\n",
              "         2.68744412,  0.        , -2.01642259,  2.68744412,  0.        ,\n",
              "         0.        ,  0.        ,  0.        , -2.03429166,  0.        ,\n",
              "         2.05596584,  0.        , -2.09310784,  2.80145225,  0.        ,\n",
              "        -2.07076016,  0.        ,  2.72951321]])"
            ]
          },
          "metadata": {},
          "execution_count": 28
        }
      ]
    },
    {
      "cell_type": "code",
      "source": [
        "np.square(a - b)"
      ],
      "metadata": {
        "colab": {
          "base_uri": "https://localhost:8080/"
        },
        "id": "94iVhcwudKKl",
        "outputId": "5efcd90f-e0f4-408d-c6a3-a9955ec2f9ea"
      },
      "execution_count": null,
      "outputs": [
        {
          "output_type": "execute_result",
          "data": {
            "text/plain": [
              "array([[4.22579699e+00, 0.00000000e+00, 1.14754754e+01, 0.00000000e+00,\n",
              "        0.00000000e+00, 1.73592202e-03, 1.22087466e-01, 4.06058568e+00,\n",
              "        1.22493759e+01, 0.00000000e+00, 4.72523363e+00, 4.00737757e+00,\n",
              "        0.00000000e+00, 0.00000000e+00, 0.00000000e+00, 0.00000000e+00,\n",
              "        0.00000000e+00, 0.00000000e+00, 0.00000000e+00, 0.00000000e+00,\n",
              "        7.22235589e+00, 0.00000000e+00, 4.06596007e+00, 7.22235589e+00,\n",
              "        0.00000000e+00, 0.00000000e+00, 0.00000000e+00, 0.00000000e+00,\n",
              "        4.13834258e+00, 0.00000000e+00, 4.22699553e+00, 0.00000000e+00,\n",
              "        4.38110042e+00, 7.84813473e+00, 0.00000000e+00, 4.28804763e+00,\n",
              "        0.00000000e+00, 7.45024235e+00]])"
            ]
          },
          "metadata": {},
          "execution_count": 29
        }
      ]
    },
    {
      "cell_type": "code",
      "source": [
        "np.sum(np.square(a - b))"
      ],
      "metadata": {
        "colab": {
          "base_uri": "https://localhost:8080/"
        },
        "id": "GoVacXOkdae6",
        "outputId": "492a5244-4ae1-4265-a43d-abd6e24a31be"
      },
      "execution_count": null,
      "outputs": [
        {
          "output_type": "execute_result",
          "data": {
            "text/plain": [
              "91.7112036526817"
            ]
          },
          "metadata": {},
          "execution_count": 30
        }
      ]
    },
    {
      "cell_type": "code",
      "source": [
        "np.sqrt(np.sum(np.square(a - b))) #distancia da Maria com o cliente 0 da base de dados"
      ],
      "metadata": {
        "colab": {
          "base_uri": "https://localhost:8080/"
        },
        "id": "vnlfaDwHdeWz",
        "outputId": "661646d4-5004-4b82-b3a8-816d64a83785"
      },
      "execution_count": null,
      "outputs": [
        {
          "output_type": "execute_result",
          "data": {
            "text/plain": [
              "9.576596663360199"
            ]
          },
          "metadata": {},
          "execution_count": 31
        }
      ]
    },
    {
      "cell_type": "markdown",
      "source": [
        "# **Implementando o algoritimo**"
      ],
      "metadata": {
        "id": "PHJVS1zjkh8L"
      }
    },
    {
      "cell_type": "markdown",
      "source": [
        "# **KNN**"
      ],
      "metadata": {
        "id": "GFQ9WddfwH3W"
      }
    },
    {
      "cell_type": "code",
      "source": [
        "from sklearn.model_selection import train_test_split"
      ],
      "metadata": {
        "id": "el5OTI2CkhLl"
      },
      "execution_count": null,
      "outputs": []
    },
    {
      "cell_type": "code",
      "source": [
        "x_treino, x_teste, y_treino, y_teste = train_test_split(x_normalizado, y, test_size = 0.3, random_state = 123)"
      ],
      "metadata": {
        "id": "Jlhf2yZDktkk"
      },
      "execution_count": null,
      "outputs": []
    },
    {
      "cell_type": "code",
      "source": [
        "from sklearn.neighbors import KNeighborsClassifier"
      ],
      "metadata": {
        "id": "Fr5OMMxsmyc6"
      },
      "execution_count": null,
      "outputs": []
    },
    {
      "cell_type": "code",
      "source": [
        "#instanciando o modelo (criamos o modelo) - por padrão são 5 vizinhos\n",
        "knn = KNeighborsClassifier(metric = 'euclidean')"
      ],
      "metadata": {
        "id": "lefxPQUJnCjx"
      },
      "execution_count": null,
      "outputs": []
    },
    {
      "cell_type": "code",
      "source": [
        "knn.fit(x_treino, y_treino)"
      ],
      "metadata": {
        "colab": {
          "base_uri": "https://localhost:8080/",
          "height": 75
        },
        "id": "qM05DIaPnMxF",
        "outputId": "b94d27db-3806-4407-a9c3-2481629e001f"
      },
      "execution_count": null,
      "outputs": [
        {
          "output_type": "execute_result",
          "data": {
            "text/plain": [
              "KNeighborsClassifier(metric='euclidean')"
            ],
            "text/html": [
              "<style>#sk-container-id-1 {color: black;background-color: white;}#sk-container-id-1 pre{padding: 0;}#sk-container-id-1 div.sk-toggleable {background-color: white;}#sk-container-id-1 label.sk-toggleable__label {cursor: pointer;display: block;width: 100%;margin-bottom: 0;padding: 0.3em;box-sizing: border-box;text-align: center;}#sk-container-id-1 label.sk-toggleable__label-arrow:before {content: \"▸\";float: left;margin-right: 0.25em;color: #696969;}#sk-container-id-1 label.sk-toggleable__label-arrow:hover:before {color: black;}#sk-container-id-1 div.sk-estimator:hover label.sk-toggleable__label-arrow:before {color: black;}#sk-container-id-1 div.sk-toggleable__content {max-height: 0;max-width: 0;overflow: hidden;text-align: left;background-color: #f0f8ff;}#sk-container-id-1 div.sk-toggleable__content pre {margin: 0.2em;color: black;border-radius: 0.25em;background-color: #f0f8ff;}#sk-container-id-1 input.sk-toggleable__control:checked~div.sk-toggleable__content {max-height: 200px;max-width: 100%;overflow: auto;}#sk-container-id-1 input.sk-toggleable__control:checked~label.sk-toggleable__label-arrow:before {content: \"▾\";}#sk-container-id-1 div.sk-estimator input.sk-toggleable__control:checked~label.sk-toggleable__label {background-color: #d4ebff;}#sk-container-id-1 div.sk-label input.sk-toggleable__control:checked~label.sk-toggleable__label {background-color: #d4ebff;}#sk-container-id-1 input.sk-hidden--visually {border: 0;clip: rect(1px 1px 1px 1px);clip: rect(1px, 1px, 1px, 1px);height: 1px;margin: -1px;overflow: hidden;padding: 0;position: absolute;width: 1px;}#sk-container-id-1 div.sk-estimator {font-family: monospace;background-color: #f0f8ff;border: 1px dotted black;border-radius: 0.25em;box-sizing: border-box;margin-bottom: 0.5em;}#sk-container-id-1 div.sk-estimator:hover {background-color: #d4ebff;}#sk-container-id-1 div.sk-parallel-item::after {content: \"\";width: 100%;border-bottom: 1px solid gray;flex-grow: 1;}#sk-container-id-1 div.sk-label:hover label.sk-toggleable__label {background-color: #d4ebff;}#sk-container-id-1 div.sk-serial::before {content: \"\";position: absolute;border-left: 1px solid gray;box-sizing: border-box;top: 0;bottom: 0;left: 50%;z-index: 0;}#sk-container-id-1 div.sk-serial {display: flex;flex-direction: column;align-items: center;background-color: white;padding-right: 0.2em;padding-left: 0.2em;position: relative;}#sk-container-id-1 div.sk-item {position: relative;z-index: 1;}#sk-container-id-1 div.sk-parallel {display: flex;align-items: stretch;justify-content: center;background-color: white;position: relative;}#sk-container-id-1 div.sk-item::before, #sk-container-id-1 div.sk-parallel-item::before {content: \"\";position: absolute;border-left: 1px solid gray;box-sizing: border-box;top: 0;bottom: 0;left: 50%;z-index: -1;}#sk-container-id-1 div.sk-parallel-item {display: flex;flex-direction: column;z-index: 1;position: relative;background-color: white;}#sk-container-id-1 div.sk-parallel-item:first-child::after {align-self: flex-end;width: 50%;}#sk-container-id-1 div.sk-parallel-item:last-child::after {align-self: flex-start;width: 50%;}#sk-container-id-1 div.sk-parallel-item:only-child::after {width: 0;}#sk-container-id-1 div.sk-dashed-wrapped {border: 1px dashed gray;margin: 0 0.4em 0.5em 0.4em;box-sizing: border-box;padding-bottom: 0.4em;background-color: white;}#sk-container-id-1 div.sk-label label {font-family: monospace;font-weight: bold;display: inline-block;line-height: 1.2em;}#sk-container-id-1 div.sk-label-container {text-align: center;}#sk-container-id-1 div.sk-container {/* jupyter's `normalize.less` sets `[hidden] { display: none; }` but bootstrap.min.css set `[hidden] { display: none !important; }` so we also need the `!important` here to be able to override the default hidden behavior on the sphinx rendered scikit-learn.org. See: https://github.com/scikit-learn/scikit-learn/issues/21755 */display: inline-block !important;position: relative;}#sk-container-id-1 div.sk-text-repr-fallback {display: none;}</style><div id=\"sk-container-id-1\" class=\"sk-top-container\"><div class=\"sk-text-repr-fallback\"><pre>KNeighborsClassifier(metric=&#x27;euclidean&#x27;)</pre><b>In a Jupyter environment, please rerun this cell to show the HTML representation or trust the notebook. <br />On GitHub, the HTML representation is unable to render, please try loading this page with nbviewer.org.</b></div><div class=\"sk-container\" hidden><div class=\"sk-item\"><div class=\"sk-estimator sk-toggleable\"><input class=\"sk-toggleable__control sk-hidden--visually\" id=\"sk-estimator-id-1\" type=\"checkbox\" checked><label for=\"sk-estimator-id-1\" class=\"sk-toggleable__label sk-toggleable__label-arrow\">KNeighborsClassifier</label><div class=\"sk-toggleable__content\"><pre>KNeighborsClassifier(metric=&#x27;euclidean&#x27;)</pre></div></div></div></div></div>"
            ]
          },
          "metadata": {},
          "execution_count": 36
        }
      ]
    },
    {
      "cell_type": "code",
      "source": [
        "predito_knn = knn.predict(x_teste)"
      ],
      "metadata": {
        "id": "JdHbO9AEncSy"
      },
      "execution_count": null,
      "outputs": []
    },
    {
      "cell_type": "code",
      "source": [
        "predito_knn"
      ],
      "metadata": {
        "colab": {
          "base_uri": "https://localhost:8080/"
        },
        "id": "_2xHvM40npmR",
        "outputId": "ec77e6cb-16c3-449b-8a62-078d16b3dbed"
      },
      "execution_count": null,
      "outputs": [
        {
          "output_type": "execute_result",
          "data": {
            "text/plain": [
              "array([1, 0, 0, ..., 0, 1, 1])"
            ]
          },
          "metadata": {},
          "execution_count": 38
        }
      ]
    },
    {
      "cell_type": "code",
      "source": [
        "x_treino"
      ],
      "metadata": {
        "colab": {
          "base_uri": "https://localhost:8080/"
        },
        "id": "Zxx514kInrmt",
        "outputId": "81c6af24-6cf4-476f-bda3-77cf8bf9e8b5"
      },
      "execution_count": null,
      "outputs": [
        {
          "output_type": "execute_result",
          "data": {
            "text/plain": [
              "array([[-0.79024667, -0.52771004, -3.06083934, ..., -0.76702973,\n",
              "         2.08712905, -0.4360152 ],\n",
              "       [ 1.26542767,  1.89498006,  0.32670777, ..., -0.76702973,\n",
              "         2.08712905, -0.4360152 ],\n",
              "       [-0.79024667, -0.52771004,  0.32670777, ...,  1.30373042,\n",
              "        -0.47912706, -0.4360152 ],\n",
              "       ...,\n",
              "       [ 1.26542767,  1.89498006,  0.32670777, ..., -0.76702973,\n",
              "         2.08712905, -0.4360152 ],\n",
              "       [ 1.26542767,  1.89498006,  0.32670777, ...,  1.30373042,\n",
              "        -0.47912706, -0.4360152 ],\n",
              "       [-0.79024667, -0.52771004,  0.32670777, ...,  1.30373042,\n",
              "        -0.47912706, -0.4360152 ]])"
            ]
          },
          "metadata": {},
          "execution_count": 39
        }
      ]
    },
    {
      "cell_type": "code",
      "source": [
        "y_treino"
      ],
      "metadata": {
        "colab": {
          "base_uri": "https://localhost:8080/"
        },
        "id": "T2Agr2yhw-RY",
        "outputId": "b43e4c42-15fe-49f4-e13a-ed24ac2ce4e3"
      },
      "execution_count": null,
      "outputs": [
        {
          "output_type": "execute_result",
          "data": {
            "text/plain": [
              "4831    0\n",
              "5077    0\n",
              "9023    1\n",
              "4424    1\n",
              "5236    0\n",
              "       ..\n",
              "9785    1\n",
              "7763    1\n",
              "5218    0\n",
              "1346    1\n",
              "3582    0\n",
              "Name: Churn, Length: 7243, dtype: int64"
            ]
          },
          "metadata": {},
          "execution_count": 40
        }
      ]
    },
    {
      "cell_type": "markdown",
      "source": [
        "# **Naive Bayes**"
      ],
      "metadata": {
        "id": "y3vB9OiDwEOF"
      }
    },
    {
      "cell_type": "code",
      "source": [
        "from sklearn.naive_bayes import BernoulliNB"
      ],
      "metadata": {
        "id": "oedi6KtOxEbs"
      },
      "execution_count": null,
      "outputs": []
    },
    {
      "cell_type": "code",
      "source": [
        "bnb = BernoulliNB(binarize=0.44)"
      ],
      "metadata": {
        "id": "1k1kL9CmxNox"
      },
      "execution_count": null,
      "outputs": []
    },
    {
      "cell_type": "code",
      "source": [
        "np.median(x_treino)"
      ],
      "metadata": {
        "colab": {
          "base_uri": "https://localhost:8080/"
        },
        "id": "_4ca09o-IN0o",
        "outputId": "fbae727c-33f0-44c0-a568-706d331f903e"
      },
      "execution_count": null,
      "outputs": [
        {
          "output_type": "execute_result",
          "data": {
            "text/plain": [
              "-0.4461759755508453"
            ]
          },
          "metadata": {},
          "execution_count": 43
        }
      ]
    },
    {
      "cell_type": "code",
      "source": [
        "bnb.fit(x_treino, y_treino)"
      ],
      "metadata": {
        "colab": {
          "base_uri": "https://localhost:8080/",
          "height": 75
        },
        "id": "sFFjQzBtGEu6",
        "outputId": "fe768b22-b542-4ec0-d52f-13b0fd5b9990"
      },
      "execution_count": null,
      "outputs": [
        {
          "output_type": "execute_result",
          "data": {
            "text/plain": [
              "BernoulliNB(binarize=0.44)"
            ],
            "text/html": [
              "<style>#sk-container-id-2 {color: black;background-color: white;}#sk-container-id-2 pre{padding: 0;}#sk-container-id-2 div.sk-toggleable {background-color: white;}#sk-container-id-2 label.sk-toggleable__label {cursor: pointer;display: block;width: 100%;margin-bottom: 0;padding: 0.3em;box-sizing: border-box;text-align: center;}#sk-container-id-2 label.sk-toggleable__label-arrow:before {content: \"▸\";float: left;margin-right: 0.25em;color: #696969;}#sk-container-id-2 label.sk-toggleable__label-arrow:hover:before {color: black;}#sk-container-id-2 div.sk-estimator:hover label.sk-toggleable__label-arrow:before {color: black;}#sk-container-id-2 div.sk-toggleable__content {max-height: 0;max-width: 0;overflow: hidden;text-align: left;background-color: #f0f8ff;}#sk-container-id-2 div.sk-toggleable__content pre {margin: 0.2em;color: black;border-radius: 0.25em;background-color: #f0f8ff;}#sk-container-id-2 input.sk-toggleable__control:checked~div.sk-toggleable__content {max-height: 200px;max-width: 100%;overflow: auto;}#sk-container-id-2 input.sk-toggleable__control:checked~label.sk-toggleable__label-arrow:before {content: \"▾\";}#sk-container-id-2 div.sk-estimator input.sk-toggleable__control:checked~label.sk-toggleable__label {background-color: #d4ebff;}#sk-container-id-2 div.sk-label input.sk-toggleable__control:checked~label.sk-toggleable__label {background-color: #d4ebff;}#sk-container-id-2 input.sk-hidden--visually {border: 0;clip: rect(1px 1px 1px 1px);clip: rect(1px, 1px, 1px, 1px);height: 1px;margin: -1px;overflow: hidden;padding: 0;position: absolute;width: 1px;}#sk-container-id-2 div.sk-estimator {font-family: monospace;background-color: #f0f8ff;border: 1px dotted black;border-radius: 0.25em;box-sizing: border-box;margin-bottom: 0.5em;}#sk-container-id-2 div.sk-estimator:hover {background-color: #d4ebff;}#sk-container-id-2 div.sk-parallel-item::after {content: \"\";width: 100%;border-bottom: 1px solid gray;flex-grow: 1;}#sk-container-id-2 div.sk-label:hover label.sk-toggleable__label {background-color: #d4ebff;}#sk-container-id-2 div.sk-serial::before {content: \"\";position: absolute;border-left: 1px solid gray;box-sizing: border-box;top: 0;bottom: 0;left: 50%;z-index: 0;}#sk-container-id-2 div.sk-serial {display: flex;flex-direction: column;align-items: center;background-color: white;padding-right: 0.2em;padding-left: 0.2em;position: relative;}#sk-container-id-2 div.sk-item {position: relative;z-index: 1;}#sk-container-id-2 div.sk-parallel {display: flex;align-items: stretch;justify-content: center;background-color: white;position: relative;}#sk-container-id-2 div.sk-item::before, #sk-container-id-2 div.sk-parallel-item::before {content: \"\";position: absolute;border-left: 1px solid gray;box-sizing: border-box;top: 0;bottom: 0;left: 50%;z-index: -1;}#sk-container-id-2 div.sk-parallel-item {display: flex;flex-direction: column;z-index: 1;position: relative;background-color: white;}#sk-container-id-2 div.sk-parallel-item:first-child::after {align-self: flex-end;width: 50%;}#sk-container-id-2 div.sk-parallel-item:last-child::after {align-self: flex-start;width: 50%;}#sk-container-id-2 div.sk-parallel-item:only-child::after {width: 0;}#sk-container-id-2 div.sk-dashed-wrapped {border: 1px dashed gray;margin: 0 0.4em 0.5em 0.4em;box-sizing: border-box;padding-bottom: 0.4em;background-color: white;}#sk-container-id-2 div.sk-label label {font-family: monospace;font-weight: bold;display: inline-block;line-height: 1.2em;}#sk-container-id-2 div.sk-label-container {text-align: center;}#sk-container-id-2 div.sk-container {/* jupyter's `normalize.less` sets `[hidden] { display: none; }` but bootstrap.min.css set `[hidden] { display: none !important; }` so we also need the `!important` here to be able to override the default hidden behavior on the sphinx rendered scikit-learn.org. See: https://github.com/scikit-learn/scikit-learn/issues/21755 */display: inline-block !important;position: relative;}#sk-container-id-2 div.sk-text-repr-fallback {display: none;}</style><div id=\"sk-container-id-2\" class=\"sk-top-container\"><div class=\"sk-text-repr-fallback\"><pre>BernoulliNB(binarize=0.44)</pre><b>In a Jupyter environment, please rerun this cell to show the HTML representation or trust the notebook. <br />On GitHub, the HTML representation is unable to render, please try loading this page with nbviewer.org.</b></div><div class=\"sk-container\" hidden><div class=\"sk-item\"><div class=\"sk-estimator sk-toggleable\"><input class=\"sk-toggleable__control sk-hidden--visually\" id=\"sk-estimator-id-2\" type=\"checkbox\" checked><label for=\"sk-estimator-id-2\" class=\"sk-toggleable__label sk-toggleable__label-arrow\">BernoulliNB</label><div class=\"sk-toggleable__content\"><pre>BernoulliNB(binarize=0.44)</pre></div></div></div></div></div>"
            ]
          },
          "metadata": {},
          "execution_count": 44
        }
      ]
    },
    {
      "cell_type": "code",
      "source": [
        "predito_BNb = bnb.predict(x_teste)"
      ],
      "metadata": {
        "id": "eQF3QBhLJKSo"
      },
      "execution_count": null,
      "outputs": []
    },
    {
      "cell_type": "code",
      "source": [
        "predito_BNb"
      ],
      "metadata": {
        "colab": {
          "base_uri": "https://localhost:8080/"
        },
        "id": "vgVcvOfDJYx_",
        "outputId": "8ed504d0-549e-4416-e800-c2bbbd615863"
      },
      "execution_count": null,
      "outputs": [
        {
          "output_type": "execute_result",
          "data": {
            "text/plain": [
              "array([1, 0, 0, ..., 1, 1, 1])"
            ]
          },
          "metadata": {},
          "execution_count": 46
        }
      ]
    },
    {
      "cell_type": "markdown",
      "source": [
        "# **Arvore de Decisão**\n",
        "\n"
      ],
      "metadata": {
        "id": "Rd4_zu6AQQHz"
      }
    },
    {
      "cell_type": "code",
      "source": [
        "from sklearn.tree import DecisionTreeClassifier"
      ],
      "metadata": {
        "id": "tfXPjC8IJaRn"
      },
      "execution_count": null,
      "outputs": []
    },
    {
      "cell_type": "code",
      "source": [
        "dtc = DecisionTreeClassifier(criterion='entropy', random_state=42)"
      ],
      "metadata": {
        "id": "zZk9LrM5QmQx"
      },
      "execution_count": null,
      "outputs": []
    },
    {
      "cell_type": "code",
      "source": [
        "dtc.fit(x_treino, y_treino)"
      ],
      "metadata": {
        "colab": {
          "base_uri": "https://localhost:8080/",
          "height": 75
        },
        "id": "lNToR3QdRHYl",
        "outputId": "ac7399fb-089f-43ea-91a2-824a0b3f6e37"
      },
      "execution_count": null,
      "outputs": [
        {
          "output_type": "execute_result",
          "data": {
            "text/plain": [
              "DecisionTreeClassifier(criterion='entropy', random_state=42)"
            ],
            "text/html": [
              "<style>#sk-container-id-3 {color: black;background-color: white;}#sk-container-id-3 pre{padding: 0;}#sk-container-id-3 div.sk-toggleable {background-color: white;}#sk-container-id-3 label.sk-toggleable__label {cursor: pointer;display: block;width: 100%;margin-bottom: 0;padding: 0.3em;box-sizing: border-box;text-align: center;}#sk-container-id-3 label.sk-toggleable__label-arrow:before {content: \"▸\";float: left;margin-right: 0.25em;color: #696969;}#sk-container-id-3 label.sk-toggleable__label-arrow:hover:before {color: black;}#sk-container-id-3 div.sk-estimator:hover label.sk-toggleable__label-arrow:before {color: black;}#sk-container-id-3 div.sk-toggleable__content {max-height: 0;max-width: 0;overflow: hidden;text-align: left;background-color: #f0f8ff;}#sk-container-id-3 div.sk-toggleable__content pre {margin: 0.2em;color: black;border-radius: 0.25em;background-color: #f0f8ff;}#sk-container-id-3 input.sk-toggleable__control:checked~div.sk-toggleable__content {max-height: 200px;max-width: 100%;overflow: auto;}#sk-container-id-3 input.sk-toggleable__control:checked~label.sk-toggleable__label-arrow:before {content: \"▾\";}#sk-container-id-3 div.sk-estimator input.sk-toggleable__control:checked~label.sk-toggleable__label {background-color: #d4ebff;}#sk-container-id-3 div.sk-label input.sk-toggleable__control:checked~label.sk-toggleable__label {background-color: #d4ebff;}#sk-container-id-3 input.sk-hidden--visually {border: 0;clip: rect(1px 1px 1px 1px);clip: rect(1px, 1px, 1px, 1px);height: 1px;margin: -1px;overflow: hidden;padding: 0;position: absolute;width: 1px;}#sk-container-id-3 div.sk-estimator {font-family: monospace;background-color: #f0f8ff;border: 1px dotted black;border-radius: 0.25em;box-sizing: border-box;margin-bottom: 0.5em;}#sk-container-id-3 div.sk-estimator:hover {background-color: #d4ebff;}#sk-container-id-3 div.sk-parallel-item::after {content: \"\";width: 100%;border-bottom: 1px solid gray;flex-grow: 1;}#sk-container-id-3 div.sk-label:hover label.sk-toggleable__label {background-color: #d4ebff;}#sk-container-id-3 div.sk-serial::before {content: \"\";position: absolute;border-left: 1px solid gray;box-sizing: border-box;top: 0;bottom: 0;left: 50%;z-index: 0;}#sk-container-id-3 div.sk-serial {display: flex;flex-direction: column;align-items: center;background-color: white;padding-right: 0.2em;padding-left: 0.2em;position: relative;}#sk-container-id-3 div.sk-item {position: relative;z-index: 1;}#sk-container-id-3 div.sk-parallel {display: flex;align-items: stretch;justify-content: center;background-color: white;position: relative;}#sk-container-id-3 div.sk-item::before, #sk-container-id-3 div.sk-parallel-item::before {content: \"\";position: absolute;border-left: 1px solid gray;box-sizing: border-box;top: 0;bottom: 0;left: 50%;z-index: -1;}#sk-container-id-3 div.sk-parallel-item {display: flex;flex-direction: column;z-index: 1;position: relative;background-color: white;}#sk-container-id-3 div.sk-parallel-item:first-child::after {align-self: flex-end;width: 50%;}#sk-container-id-3 div.sk-parallel-item:last-child::after {align-self: flex-start;width: 50%;}#sk-container-id-3 div.sk-parallel-item:only-child::after {width: 0;}#sk-container-id-3 div.sk-dashed-wrapped {border: 1px dashed gray;margin: 0 0.4em 0.5em 0.4em;box-sizing: border-box;padding-bottom: 0.4em;background-color: white;}#sk-container-id-3 div.sk-label label {font-family: monospace;font-weight: bold;display: inline-block;line-height: 1.2em;}#sk-container-id-3 div.sk-label-container {text-align: center;}#sk-container-id-3 div.sk-container {/* jupyter's `normalize.less` sets `[hidden] { display: none; }` but bootstrap.min.css set `[hidden] { display: none !important; }` so we also need the `!important` here to be able to override the default hidden behavior on the sphinx rendered scikit-learn.org. See: https://github.com/scikit-learn/scikit-learn/issues/21755 */display: inline-block !important;position: relative;}#sk-container-id-3 div.sk-text-repr-fallback {display: none;}</style><div id=\"sk-container-id-3\" class=\"sk-top-container\"><div class=\"sk-text-repr-fallback\"><pre>DecisionTreeClassifier(criterion=&#x27;entropy&#x27;, random_state=42)</pre><b>In a Jupyter environment, please rerun this cell to show the HTML representation or trust the notebook. <br />On GitHub, the HTML representation is unable to render, please try loading this page with nbviewer.org.</b></div><div class=\"sk-container\" hidden><div class=\"sk-item\"><div class=\"sk-estimator sk-toggleable\"><input class=\"sk-toggleable__control sk-hidden--visually\" id=\"sk-estimator-id-3\" type=\"checkbox\" checked><label for=\"sk-estimator-id-3\" class=\"sk-toggleable__label sk-toggleable__label-arrow\">DecisionTreeClassifier</label><div class=\"sk-toggleable__content\"><pre>DecisionTreeClassifier(criterion=&#x27;entropy&#x27;, random_state=42)</pre></div></div></div></div></div>"
            ]
          },
          "metadata": {},
          "execution_count": 49
        }
      ]
    },
    {
      "cell_type": "code",
      "source": [
        "dtc.feature_importances_"
      ],
      "metadata": {
        "colab": {
          "base_uri": "https://localhost:8080/"
        },
        "id": "GLvKN3RyRq5Q",
        "outputId": "75e92fdb-f6d2-40f1-ad01-4e6fab8bd83c"
      },
      "execution_count": null,
      "outputs": [
        {
          "output_type": "execute_result",
          "data": {
            "text/plain": [
              "array([0.02100894, 0.01395648, 0.0068095 , 0.01986065, 0.01886452,\n",
              "       0.1627932 , 0.22212421, 0.00939177, 0.00344576, 0.01039829,\n",
              "       0.0019815 , 0.03128648, 0.00065123, 0.00849934, 0.        ,\n",
              "       0.01698366, 0.00622973, 0.        , 0.00964718, 0.01267467,\n",
              "       0.00027769, 0.00770208, 0.01299062, 0.00368329, 0.02047256,\n",
              "       0.00371587, 0.        , 0.00156955, 0.00671244, 0.0003825 ,\n",
              "       0.01126638, 0.03622159, 0.16358635, 0.07445054, 0.01758995,\n",
              "       0.02117825, 0.02183557, 0.01975766])"
            ]
          },
          "metadata": {},
          "execution_count": 50
        }
      ]
    },
    {
      "cell_type": "code",
      "source": [
        "predito_ArvoreDecisao = dtc.predict(x_teste)"
      ],
      "metadata": {
        "id": "lxOnlhU7RzDz"
      },
      "execution_count": null,
      "outputs": []
    },
    {
      "cell_type": "code",
      "source": [
        "predito_ArvoreDecisao"
      ],
      "metadata": {
        "colab": {
          "base_uri": "https://localhost:8080/"
        },
        "id": "i0Bm6L0WSHnq",
        "outputId": "8a965e25-d6a2-423b-bb91-c2dd74f6d4d5"
      },
      "execution_count": null,
      "outputs": [
        {
          "output_type": "execute_result",
          "data": {
            "text/plain": [
              "array([0, 0, 0, ..., 1, 1, 1])"
            ]
          },
          "metadata": {},
          "execution_count": 52
        }
      ]
    },
    {
      "cell_type": "markdown",
      "source": [
        "# **Verificando a Matriz de confusão**"
      ],
      "metadata": {
        "id": "oGvH2FAokNTF"
      }
    },
    {
      "cell_type": "code",
      "source": [
        "from sklearn.metrics import confusion_matrix"
      ],
      "metadata": {
        "id": "N_yCjXwySKm6"
      },
      "execution_count": null,
      "outputs": []
    },
    {
      "cell_type": "code",
      "source": [
        "print(confusion_matrix(y_teste, predito_knn))"
      ],
      "metadata": {
        "colab": {
          "base_uri": "https://localhost:8080/"
        },
        "id": "Ddxa3Hgeinwy",
        "outputId": "813c1c45-5874-44b8-a430-2a6a4a43376c"
      },
      "execution_count": null,
      "outputs": [
        {
          "output_type": "stream",
          "name": "stdout",
          "text": [
            "[[1242  327]\n",
            " [ 248 1288]]\n"
          ]
        }
      ]
    },
    {
      "cell_type": "code",
      "source": [
        "print(confusion_matrix(y_teste, predito_BNb))"
      ],
      "metadata": {
        "colab": {
          "base_uri": "https://localhost:8080/"
        },
        "id": "QRqpZn9miu-P",
        "outputId": "4b01a00c-c7f5-40d3-8be3-d498ea832d81"
      },
      "execution_count": null,
      "outputs": [
        {
          "output_type": "stream",
          "name": "stdout",
          "text": [
            "[[1084  485]\n",
            " [ 238 1298]]\n"
          ]
        }
      ]
    },
    {
      "cell_type": "code",
      "source": [
        "print(confusion_matrix(y_teste, predito_ArvoreDecisao))"
      ],
      "metadata": {
        "colab": {
          "base_uri": "https://localhost:8080/"
        },
        "id": "BpBg6FT-jW1b",
        "outputId": "f2e7f980-e8f3-4dc0-c57b-b9fa913bb84c"
      },
      "execution_count": null,
      "outputs": [
        {
          "output_type": "stream",
          "name": "stdout",
          "text": [
            "[[1250  319]\n",
            " [ 275 1261]]\n"
          ]
        }
      ]
    },
    {
      "cell_type": "markdown",
      "source": [
        "![precisao.png](data:image/png;base64,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)# **Acurácia**\n",
        "![images.png](data:image/png;base64,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![precisao.png](data:image/png;base64,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))"
      ],
      "metadata": {
        "id": "RIGnJb7kkTUd"
      }
    },
    {
      "cell_type": "code",
      "source": [
        "from sklearn.metrics import accuracy_score"
      ],
      "metadata": {
        "id": "lSly99FOj_Hf"
      },
      "execution_count": null,
      "outputs": []
    },
    {
      "cell_type": "code",
      "source": [
        "#modelo Knn\n",
        "print(accuracy_score(y_teste, predito_knn))"
      ],
      "metadata": {
        "id": "2wmTLw1Sni5x",
        "colab": {
          "base_uri": "https://localhost:8080/"
        },
        "outputId": "2fc8af9d-7ad2-432b-a437-788af11368c5"
      },
      "execution_count": null,
      "outputs": [
        {
          "output_type": "stream",
          "name": "stdout",
          "text": [
            "0.8148148148148148\n"
          ]
        }
      ]
    },
    {
      "cell_type": "code",
      "source": [
        "print(accuracy_score(y_teste, predito_BNb))"
      ],
      "metadata": {
        "colab": {
          "base_uri": "https://localhost:8080/"
        },
        "id": "zF_5mJDepUm6",
        "outputId": "eada0eca-b579-41e8-8226-12c2dc8c2f75"
      },
      "execution_count": null,
      "outputs": [
        {
          "output_type": "stream",
          "name": "stdout",
          "text": [
            "0.7671497584541063\n"
          ]
        }
      ]
    },
    {
      "cell_type": "code",
      "source": [
        "print(accuracy_score(y_teste, predito_ArvoreDecisao))"
      ],
      "metadata": {
        "colab": {
          "base_uri": "https://localhost:8080/"
        },
        "id": "NqpsGQz4pNWm",
        "outputId": "c4ac507f-b03f-43f8-9426-385b992874ad"
      },
      "execution_count": null,
      "outputs": [
        {
          "output_type": "stream",
          "name": "stdout",
          "text": [
            "0.808695652173913\n"
          ]
        }
      ]
    },
    {
      "cell_type": "markdown",
      "source": [
        "# **Calculando a Precisão**\n"
      ],
      "metadata": {
        "id": "9kEfoxgwqG9N"
      }
    },
    {
      "cell_type": "code",
      "source": [
        "from sklearn.metrics import precision_score"
      ],
      "metadata": {
        "id": "z70Hot4tqgFk"
      },
      "execution_count": 61,
      "outputs": []
    },
    {
      "cell_type": "code",
      "source": [
        "print(precision_score(y_teste, predito_knn))"
      ],
      "metadata": {
        "colab": {
          "base_uri": "https://localhost:8080/"
        },
        "id": "Nqydz2IdrbVJ",
        "outputId": "7b7fa8f7-daee-45aa-8e68-8c783e32974f"
      },
      "execution_count": 62,
      "outputs": [
        {
          "output_type": "stream",
          "name": "stdout",
          "text": [
            "0.7975232198142415\n"
          ]
        }
      ]
    },
    {
      "cell_type": "code",
      "source": [
        "print(precision_score(y_teste, predito_BNb))"
      ],
      "metadata": {
        "colab": {
          "base_uri": "https://localhost:8080/"
        },
        "id": "lvIuMX8VrgMp",
        "outputId": "465f4525-20f4-4e2e-8ef5-ac6dc9ed7af2"
      },
      "execution_count": 63,
      "outputs": [
        {
          "output_type": "stream",
          "name": "stdout",
          "text": [
            "0.727986539540101\n"
          ]
        }
      ]
    },
    {
      "cell_type": "code",
      "source": [
        "print(precision_score(y_teste, predito_ArvoreDecisao))"
      ],
      "metadata": {
        "colab": {
          "base_uri": "https://localhost:8080/"
        },
        "id": "3VveqDa7rmN2",
        "outputId": "9e530674-f2e0-4438-ad09-82bcb3777650"
      },
      "execution_count": 64,
      "outputs": [
        {
          "output_type": "stream",
          "name": "stdout",
          "text": [
            "0.7981012658227848\n"
          ]
        }
      ]
    },
    {
      "cell_type": "markdown",
      "source": [
        "# **Recall**"
      ],
      "metadata": {
        "id": "MFuZEg5nsLvK"
      }
    },
    {
      "cell_type": "code",
      "source": [
        "from sklearn.metrics import recall_score"
      ],
      "metadata": {
        "id": "Ym_ixzl-rpdz"
      },
      "execution_count": 65,
      "outputs": []
    },
    {
      "cell_type": "code",
      "source": [
        "print(recall_score(y_teste, predito_knn))"
      ],
      "metadata": {
        "colab": {
          "base_uri": "https://localhost:8080/"
        },
        "id": "fBhcQkWssrsm",
        "outputId": "a87006d6-2032-4e2d-c4a3-5d9047508cef"
      },
      "execution_count": 69,
      "outputs": [
        {
          "output_type": "stream",
          "name": "stdout",
          "text": [
            "0.8385416666666666\n"
          ]
        }
      ]
    },
    {
      "cell_type": "code",
      "source": [
        "print(recall_score(y_teste, predito_BNb))"
      ],
      "metadata": {
        "colab": {
          "base_uri": "https://localhost:8080/"
        },
        "id": "2J-TR35iswQT",
        "outputId": "94cc2fbb-9642-45ac-effb-131d031fbb06"
      },
      "execution_count": 70,
      "outputs": [
        {
          "output_type": "stream",
          "name": "stdout",
          "text": [
            "0.8450520833333334\n"
          ]
        }
      ]
    },
    {
      "cell_type": "code",
      "source": [
        "print(recall_score(y_teste, predito_ArvoreDecisao))"
      ],
      "metadata": {
        "colab": {
          "base_uri": "https://localhost:8080/"
        },
        "id": "ZwIZCUBQszA3",
        "outputId": "df227e29-5ca3-468f-e93f-a1f932fe0bc0"
      },
      "execution_count": 71,
      "outputs": [
        {
          "output_type": "stream",
          "name": "stdout",
          "text": [
            "0.8209635416666666\n"
          ]
        }
      ]
    },
    {
      "cell_type": "markdown",
      "source": [
        "# **Escolhendo o melhor modelo**\n",
        "Utilizamos o método de Precisão **Precisão** tp/tp+fp, já que devemos nos preocupar com os valores positivos de churn, já que são os clientes que estarão deixando o serviço/produto. Outro método bom para utilizar, seria o **Recall** tp/tp+fn, já que ele tem base como os verdadeiros positivos"
      ],
      "metadata": {
        "id": "am1PqdYntK_S"
      }
    },
    {
      "cell_type": "code",
      "source": [
        "print('Modelo KNN:', precision_score(y_teste, predito_knn))\n",
        "print('Modelo Bernoulli de Naive Bayes:', precision_score(y_teste, predito_BNb))\n",
        "print('Modelo Àrvore de Decisão:', precision_score(y_teste, predito_ArvoreDecisao)) #melhor modelo"
      ],
      "metadata": {
        "colab": {
          "base_uri": "https://localhost:8080/"
        },
        "id": "w0bE5NlAs4-4",
        "outputId": "4406522f-01f2-4669-baf0-1c2a1ab22a26"
      },
      "execution_count": 72,
      "outputs": [
        {
          "output_type": "stream",
          "name": "stdout",
          "text": [
            "Modelo KNN: 0.7975232198142415\n",
            "Modelo Bernoulli de Naive Bayes: 0.727986539540101\n",
            "Modelo Àrvore de Decisão: 0.7981012658227848\n"
          ]
        }
      ]
    }
  ]
}